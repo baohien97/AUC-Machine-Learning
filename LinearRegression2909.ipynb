{
 "cells": [
  {
   "cell_type": "code",
   "execution_count": 1,
   "metadata": {},
   "outputs": [
    {
     "name": "stdout",
     "output_type": "stream",
     "text": [
      "Populating the interactive namespace from numpy and matplotlib\n"
     ]
    }
   ],
   "source": [
    "%pylab inline"
   ]
  },
  {
   "cell_type": "code",
   "execution_count": 2,
   "metadata": {},
   "outputs": [
    {
     "data": {
      "image/png": "[encoded data removed]",
      "text/plain": [
       "<matplotlib.figure.Figure at 0x1be21adb630>"
      ]
     },
     "metadata": {},
     "output_type": "display_data"
    }
   ],
   "source": [
    "m = 100;\n",
    "a = 0.5\n",
    "b = 2\n",
    "x = linspace(0,10,m)\n",
    "y = a * x + b + 0.3 * random.randn(m)\n",
    "plot(x, y, 'r+');"
   ]
  },
  {
   "cell_type": "code",
   "execution_count": 3,
   "metadata": {
    "collapsed": true
   },
   "outputs": [],
   "source": [
    "#Make a prediction function h\n",
    "def predict(x,theta0,theta1):\n",
    "    param = [theta0, theta1]\n",
    "    x_predict = param@x\n",
    "    return x_predict"
   ]
  },
  {
   "cell_type": "code",
   "execution_count": 50,
   "metadata": {},
   "outputs": [
    {
     "data": {
      "text/plain": [
       "(100,)"
      ]
     },
     "execution_count": 50,
     "metadata": {},
     "output_type": "execute_result"
    }
   ],
   "source": [
    "x = x.reshape(1,100)\n",
    "new_ar = vstack([zeros(100), x])\n",
    "new_ar.shape\n",
    "predict(new_ar, 0, 1).shape"
   ]
  },
  {
   "cell_type": "code",
   "execution_count": 88,
   "metadata": {},
   "outputs": [],
   "source": [
    "#Use the output of that function to compute the cost function J:\n",
    "def costFn(x_predict,y):\n",
    "    m = len(y)\n",
    "    sqerror = (x_predict - y)**2 \n",
    "    result = (sum(sqerror))/(2*m)\n",
    "    return result"
   ]
  },
  {
   "cell_type": "code",
   "execution_count": 95,
   "metadata": {},
   "outputs": [
    {
     "data": {
      "image/png": "[encoded data removed]",
      "text/plain": [
       "<matplotlib.figure.Figure at 0x1be222bdcc0>"
      ]
     },
     "metadata": {},
     "output_type": "display_data"
    }
   ],
   "source": [
    "#Create a function that returns the gradient values, given h (x_predict), y and x:\n",
    "def gradDescentStep(x_predict, y, x, alpha, theta0, theta1):\n",
    "    m = len(y)\n",
    "    error = x_predict - y\n",
    "    dtheta0 = theta0 - (alpha/m)*sum(error*x)\n",
    "    dtheta1 = theta1 - (alpha/m)*sum(error*x)\n",
    "    \n",
    "    return dtheta0, dtheta1\n",
    "\n",
    "# Repeat the gradient descent step untill it converges.\n",
    "# These are some default parameters, see how playing with them affects the behavior\n",
    "alpha = 0.1\n",
    "theta0 = 0\n",
    "theta1 = 1\n",
    "iterations = 10\n",
    "\n",
    "#Fill in the stopcondition yourself\n",
    "stopcondition = 0.5\n",
    "\n",
    "i = 0\n",
    "cost_after = 10\n",
    "x_predict = predict(new_ar, theta0, theta1)\n",
    "\n",
    "#Try to save the output of the cost function at each iteration and plot it at the end\n",
    "while (i < iterations) and (cost_after > stopcondition):\n",
    "    i = i +1\n",
    "    #Put everything together here\n",
    "    theta0, theta1 = gradDescentStep(x_predict, y, x, alpha, theta0, theta1)\n",
    "    x_predict = predict(new_ar, theta0, theta1)\n",
    "    cost_after = costFn(x_predict, y)\n",
    "\n",
    "plt.plot(x.reshape(100,),predict(new_ar,theta0,theta1))\n",
    "plt.plot(x.reshape(100,),y,'o')\n",
    "plt.show()"
   ]
  },
  {
   "cell_type": "code",
   "execution_count": 90,
   "metadata": {},
   "outputs": [
    {
     "data": {
      "text/plain": [
       "17337790.658626217"
      ]
     },
     "execution_count": 90,
     "metadata": {},
     "output_type": "execute_result"
    }
   ],
   "source": [
    "costFn(x_predict, y)"
   ]
  },
  {
   "cell_type": "code",
   "execution_count": 12,
   "metadata": {},
   "outputs": [
    {
     "name": "stdout",
     "output_type": "stream",
     "text": [
      "[ 2.39973006  2.34364965  1.83515743  2.11650761  2.24022485  1.89320023\n",
      "  2.43041786  2.67150696  1.9968686   2.45443639  2.31142809  2.35335946\n",
      "  2.6380641   2.48164818  2.67932051  2.80109158  2.82328142  3.34670047\n",
      "  2.69940456  3.0669572   2.50995793  3.06640789  3.15230489  3.194024\n",
      "  3.19734059  3.66669318  3.59290446  3.47569419  2.93768391  3.60089252\n",
      "  3.95995054  3.78245058  3.51705719  3.45942861  3.47498928  3.65642312\n",
      "  3.99052276  3.55851028  4.1552611   4.4476447   3.67772101  4.34558837\n",
      "  4.53619253  3.76598738  4.13840829  4.1872921   4.4533203   4.31769967\n",
      "  4.28434543  4.62753654  4.54078495  4.7915546   4.90571728  4.60136601\n",
      "  4.60575532  4.98018084  4.83780082  4.81242556  5.29626452  5.04578987\n",
      "  5.14866239  5.35871482  5.40799721  5.76772541  5.18402978  5.08478075\n",
      "  4.73643384  5.68282586  5.66280959  5.61404962  5.12973051  5.72417896\n",
      "  5.87085954  5.61356809  5.77341096  5.94878132  5.95628416  6.00587764\n",
      "  5.93245933  6.00726085  5.79733883  6.01353617  5.57554745  5.88203943\n",
      "  6.24662849  6.03262782  6.06174449  6.24341315  6.21141382  6.86600074\n",
      "  6.19438157  6.36895097  6.23870618  6.97520046  6.70461413  6.86902579\n",
      "  7.20937553  7.13921782  6.81533777  6.86320645]\n"
     ]
    }
   ],
   "source": [
    "print(y)"
   ]
  },
  {
   "cell_type": "code",
   "execution_count": null,
   "metadata": {
    "collapsed": true
   },
   "outputs": [],
   "source": [
    "="
   ]
  }
 ],
 "metadata": {
  "kernelspec": {
   "display_name": "Python 3",
   "language": "python",
   "name": "python3"
  },
  "language_info": {
   "codemirror_mode": {
    "name": "ipython",
    "version": 3
   },
   "file_extension": ".py",
   "mimetype": "text/x-python",
   "name": "python",
   "nbconvert_exporter": "python",
   "pygments_lexer": "ipython3",
   "version": "3.6.1"
  }
 },
 "nbformat": 4,
 "nbformat_minor": 2
}
