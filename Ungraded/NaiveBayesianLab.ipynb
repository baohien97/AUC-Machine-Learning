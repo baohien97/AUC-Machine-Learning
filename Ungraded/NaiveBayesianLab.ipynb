{
 "cells": [
  {
   "cell_type": "code",
   "execution_count": 6,
   "metadata": {
    "collapsed": true
   },
   "outputs": [],
   "source": [
    "import numpy as np"
   ]
  },
  {
   "cell_type": "code",
   "execution_count": 7,
   "metadata": {
    "collapsed": true
   },
   "outputs": [],
   "source": [
    "data = np.genfromtxt(\"./biometrie2014.csv\", skip_header=5, delimiter=\",\", converters={0: lambda x: int(x[0]==70)})"
   ]
  },
  {
   "cell_type": "code",
   "execution_count": 8,
   "metadata": {},
   "outputs": [
    {
     "name": "stdout",
     "output_type": "stream",
     "text": [
      "[(0,   60.,  183.,  42. ) (0,  130.,  185.,  45. ) (0,   84.,  180.,  42. )\n",
      " (0,   65.,  195.,  45. ) (0,   55.,  170.,  42. ) (1,   63.,  173.,  41. )\n",
      " (0,   74.,  185.,  43. ) (1,   50.,  170.,  38. ) (1,   82.,  180.,  42. )\n",
      " (0,   77.,  190.,  44. ) (0,   76.,  179.,  43. ) (0,   66.,  178.,  42. )\n",
      " (0,   79.,  186.,  45. ) (0,   76.,  189.,  44. ) (0,   75.,  175.,  42. )\n",
      " (0,   90.,  190.,  46. ) (0,   70.,  180.,  41. ) (1,   46.,  164.,  36. )\n",
      " (0,   98.,  189.,  44. ) (0,   79.,  180.,  43. ) (0,   67.,  189.,  44. )\n",
      " (0,   81.,  190.,  45.3) (0,   85.,  190.,  44.5) (0,   75.,  188.,  44. )\n",
      " (0,   70.,  178.,  43. ) (0,   60.,  180.,  43. ) (0,   73.,  192.,  44. )\n",
      " (0,   76.,  174.,  42. ) (0,   78.,  187.,  44. ) (1,   75.,  162.,  38. )\n",
      " (1,   50.,  165.,  37. ) (0,   76.,  188.,  44.5) (0,   73.,  180.,  43. )]\n"
     ]
    }
   ],
   "source": [
    "print(data)"
   ]
  },
  {
   "cell_type": "code",
   "execution_count": 9,
   "metadata": {},
   "outputs": [
    {
     "name": "stdout",
     "output_type": "stream",
     "text": [
      "(0,  60.,  183.,  42.)\n"
     ]
    }
   ],
   "source": [
    "print(np.asarray(data[0]))"
   ]
  },
  {
   "cell_type": "code",
   "execution_count": 10,
   "metadata": {},
   "outputs": [
    {
     "name": "stdout",
     "output_type": "stream",
     "text": [
      "[('f0', '<i4'), ('f1', '<f8'), ('f2', '<f8'), ('f3', '<f8')]\n"
     ]
    }
   ],
   "source": [
    "print(np.dtype(data[0]))"
   ]
  },
  {
   "cell_type": "code",
   "execution_count": null,
   "metadata": {
    "collapsed": true
   },
   "outputs": [],
   "source": []
  },
  {
   "cell_type": "code",
   "execution_count": 11,
   "metadata": {
    "collapsed": true
   },
   "outputs": [],
   "source": [
    "lstdata = []"
   ]
  },
  {
   "cell_type": "code",
   "execution_count": 12,
   "metadata": {
    "collapsed": true
   },
   "outputs": [],
   "source": [
    "for tup in data:\n",
    "    lst1 = []\n",
    "    for num in tup:\n",
    "        lst1.append(num)\n",
    "    lstdata.append(lst1)\n",
    "    "
   ]
  },
  {
   "cell_type": "code",
   "execution_count": 13,
   "metadata": {},
   "outputs": [
    {
     "name": "stdout",
     "output_type": "stream",
     "text": [
      "[0, 73.0, 180.0, 43.0]\n"
     ]
    }
   ],
   "source": [
    "print(lst1)"
   ]
  },
  {
   "cell_type": "code",
   "execution_count": 14,
   "metadata": {
    "collapsed": true
   },
   "outputs": [],
   "source": [
    "lstdata = [list(tup) for tup in data]"
   ]
  },
  {
   "cell_type": "markdown",
   "metadata": {},
   "source": [
    "#### flatten list of tuples to list of lists "
   ]
  },
  {
   "cell_type": "code",
   "execution_count": 15,
   "metadata": {},
   "outputs": [
    {
     "name": "stdout",
     "output_type": "stream",
     "text": [
      "[[0, 60.0, 183.0, 42.0], [0, 130.0, 185.0, 45.0], [0, 84.0, 180.0, 42.0], [0, 65.0, 195.0, 45.0], [0, 55.0, 170.0, 42.0], [1, 63.0, 173.0, 41.0], [0, 74.0, 185.0, 43.0], [1, 50.0, 170.0, 38.0], [1, 82.0, 180.0, 42.0], [0, 77.0, 190.0, 44.0], [0, 76.0, 179.0, 43.0], [0, 66.0, 178.0, 42.0], [0, 79.0, 186.0, 45.0], [0, 76.0, 189.0, 44.0], [0, 75.0, 175.0, 42.0], [0, 90.0, 190.0, 46.0], [0, 70.0, 180.0, 41.0], [1, 46.0, 164.0, 36.0], [0, 98.0, 189.0, 44.0], [0, 79.0, 180.0, 43.0], [0, 67.0, 189.0, 44.0], [0, 81.0, 190.0, 45.299999999999997], [0, 85.0, 190.0, 44.5], [0, 75.0, 188.0, 44.0], [0, 70.0, 178.0, 43.0], [0, 60.0, 180.0, 43.0], [0, 73.0, 192.0, 44.0], [0, 76.0, 174.0, 42.0], [0, 78.0, 187.0, 44.0], [1, 75.0, 162.0, 38.0], [1, 50.0, 165.0, 37.0], [0, 76.0, 188.0, 44.5], [0, 73.0, 180.0, 43.0]]\n"
     ]
    }
   ],
   "source": [
    "print(lstdata)"
   ]
  },
  {
   "cell_type": "code",
   "execution_count": 16,
   "metadata": {},
   "outputs": [
    {
     "name": "stdout",
     "output_type": "stream",
     "text": [
      "33\n"
     ]
    }
   ],
   "source": [
    "print(len(lstdata))"
   ]
  },
  {
   "cell_type": "code",
   "execution_count": 17,
   "metadata": {},
   "outputs": [
    {
     "ename": "AttributeError",
     "evalue": "'list' object has no attribute 'shape'",
     "output_type": "error",
     "traceback": [
      "\u001b[1;31m---------------------------------------------------------------------------\u001b[0m",
      "\u001b[1;31mAttributeError\u001b[0m                            Traceback (most recent call last)",
      "\u001b[1;32m<ipython-input-17-af0a010e79ce>\u001b[0m in \u001b[0;36m<module>\u001b[1;34m()\u001b[0m\n\u001b[1;32m----> 1\u001b[1;33m \u001b[0mprint\u001b[0m\u001b[1;33m(\u001b[0m\u001b[0mlstdata\u001b[0m\u001b[1;33m.\u001b[0m\u001b[0mshape\u001b[0m\u001b[1;33m)\u001b[0m\u001b[1;33m\u001b[0m\u001b[0m\n\u001b[0m",
      "\u001b[1;31mAttributeError\u001b[0m: 'list' object has no attribute 'shape'"
     ]
    }
   ],
   "source": [
    "print(lstdata.shape)"
   ]
  },
  {
   "cell_type": "code",
   "execution_count": 18,
   "metadata": {
    "collapsed": true
   },
   "outputs": [],
   "source": [
    "data_ar = np.array(lstdata)"
   ]
  },
  {
   "cell_type": "code",
   "execution_count": 19,
   "metadata": {},
   "outputs": [
    {
     "name": "stdout",
     "output_type": "stream",
     "text": [
      "(33, 4)\n"
     ]
    }
   ],
   "source": [
    "print(data_ar.shape)"
   ]
  },
  {
   "cell_type": "code",
   "execution_count": 20,
   "metadata": {},
   "outputs": [
    {
     "name": "stdout",
     "output_type": "stream",
     "text": [
      "(33,)\n"
     ]
    }
   ],
   "source": [
    "print(data.shape)"
   ]
  },
  {
   "cell_type": "markdown",
   "metadata": {},
   "source": [
    "#### try some Latex stuff"
   ]
  },
  {
   "cell_type": "code",
   "execution_count": 21,
   "metadata": {
    "collapsed": true
   },
   "outputs": [],
   "source": [
    "from IPython.display import Latex\n"
   ]
  },
  {
   "cell_type": "markdown",
   "metadata": {},
   "source": [
    "\\begin{equation}\n",
    "H← ​​​60 ​+​ \\frac{​​30(B−R)​​}{Vmax−Vmin}  ​​, if V​max​​ = G\n",
    "\\end{equation}"
   ]
  },
  {
   "cell_type": "markdown",
   "metadata": {},
   "source": [
    "$$c = \\sqrt{a^2 + b^2}$$\n"
   ]
  },
  {
   "cell_type": "markdown",
   "metadata": {},
   "source": [
    "#### Naive Bayes exercise"
   ]
  },
  {
   "cell_type": "code",
   "execution_count": 22,
   "metadata": {
    "collapsed": true
   },
   "outputs": [],
   "source": [
    ">>> from sklearn.naive_bayes import GaussianNB\n"
   ]
  },
  {
   "cell_type": "code",
   "execution_count": 39,
   "metadata": {},
   "outputs": [
    {
     "name": "stdout",
     "output_type": "stream",
     "text": [
      "[173.0, 170.0, 180.0, 164.0, 162.0, 165.0]\n"
     ]
    }
   ],
   "source": [
    "Fl = []\n",
    "Fw = []\n",
    "Fs = []\n",
    "Ml = []\n",
    "Mw = []\n",
    "Ms = []\n",
    "for data in data_ar:\n",
    "    if data[0] == 1:\n",
    "        Fl.append(data[1])\n",
    "        Fw.append(data[2])\n",
    "        Fs.append(data[3])\n",
    "    elif data[0] == 0:\n",
    "        Ml.append(data[1])\n",
    "        Mw.append(data[2])\n",
    "        Ms.append(data[3])\n",
    "print(Fw)            \n",
    "    \n"
   ]
  },
  {
   "cell_type": "code",
   "execution_count": 40,
   "metadata": {},
   "outputs": [
    {
     "name": "stdout",
     "output_type": "stream",
     "text": [
      "[183.0, 185.0, 180.0, 195.0, 170.0, 185.0, 190.0, 179.0, 178.0, 186.0, 189.0, 175.0, 190.0, 180.0, 189.0, 180.0, 189.0, 190.0, 190.0, 188.0, 178.0, 180.0, 192.0, 174.0, 187.0, 188.0, 180.0]\n"
     ]
    }
   ],
   "source": [
    "print(Mw)"
   ]
  },
  {
   "cell_type": "code",
   "execution_count": 41,
   "metadata": {},
   "outputs": [
    {
     "name": "stdout",
     "output_type": "stream",
     "text": [
      "[60.0, 130.0, 84.0, 65.0, 55.0, 74.0, 77.0, 76.0, 66.0, 79.0, 76.0, 75.0, 90.0, 70.0, 98.0, 79.0, 67.0, 81.0, 85.0, 75.0, 70.0, 60.0, 73.0, 76.0, 78.0, 76.0, 73.0]\n"
     ]
    }
   ],
   "source": [
    "print (Ml)"
   ]
  },
  {
   "cell_type": "code",
   "execution_count": 42,
   "metadata": {},
   "outputs": [
    {
     "name": "stdout",
     "output_type": "stream",
     "text": [
      "[42.0, 45.0, 42.0, 45.0, 42.0, 43.0, 44.0, 43.0, 42.0, 45.0, 44.0, 42.0, 46.0, 41.0, 44.0, 43.0, 44.0, 45.299999999999997, 44.5, 44.0, 43.0, 43.0, 44.0, 42.0, 44.0, 44.5, 43.0]\n"
     ]
    }
   ],
   "source": [
    "print (Ms)"
   ]
  },
  {
   "cell_type": "code",
   "execution_count": 43,
   "metadata": {},
   "outputs": [
    {
     "name": "stdout",
     "output_type": "stream",
     "text": [
      "[63.0, 50.0, 82.0, 46.0, 75.0, 50.0]\n"
     ]
    }
   ],
   "source": [
    "print (Fl)"
   ]
  },
  {
   "cell_type": "code",
   "execution_count": 44,
   "metadata": {},
   "outputs": [
    {
     "name": "stdout",
     "output_type": "stream",
     "text": [
      "[41.0, 38.0, 42.0, 36.0, 38.0, 37.0]\n"
     ]
    }
   ],
   "source": [
    "print(Fs)"
   ]
  },
  {
   "cell_type": "code",
   "execution_count": 45,
   "metadata": {},
   "outputs": [
    {
     "name": "stdout",
     "output_type": "stream",
     "text": [
      "[173.0, 170.0, 180.0, 164.0, 162.0, 165.0]\n"
     ]
    }
   ],
   "source": [
    "print(Fw)"
   ]
  },
  {
   "cell_type": "code",
   "execution_count": 46,
   "metadata": {
    "collapsed": true
   },
   "outputs": [],
   "source": [
    "meanFl = np.mean(Fl)"
   ]
  },
  {
   "cell_type": "code",
   "execution_count": 48,
   "metadata": {},
   "outputs": [],
   "source": [
    "meanFw = np.mean(Fw)"
   ]
  },
  {
   "cell_type": "code",
   "execution_count": 49,
   "metadata": {
    "collapsed": true
   },
   "outputs": [],
   "source": [
    "meanFs = np.mean(Fs)"
   ]
  },
  {
   "cell_type": "code",
   "execution_count": 50,
   "metadata": {
    "collapsed": true
   },
   "outputs": [],
   "source": [
    "meanMl = np.mean(Ml)"
   ]
  },
  {
   "cell_type": "code",
   "execution_count": 51,
   "metadata": {
    "collapsed": true
   },
   "outputs": [],
   "source": [
    "meanMw = np.mean(Mw)"
   ]
  },
  {
   "cell_type": "code",
   "execution_count": 52,
   "metadata": {
    "collapsed": true
   },
   "outputs": [],
   "source": [
    "meanMs = np.mean(Ms)"
   ]
  },
  {
   "cell_type": "code",
   "execution_count": 54,
   "metadata": {},
   "outputs": [],
   "source": [
    "sdFl = np.std(Fl)"
   ]
  },
  {
   "cell_type": "code",
   "execution_count": 55,
   "metadata": {
    "collapsed": true
   },
   "outputs": [],
   "source": [
    "sdFw = np.std(Fw)"
   ]
  },
  {
   "cell_type": "code",
   "execution_count": 56,
   "metadata": {
    "collapsed": true
   },
   "outputs": [],
   "source": [
    "sdFs = np.std(Fs)"
   ]
  },
  {
   "cell_type": "code",
   "execution_count": 57,
   "metadata": {
    "collapsed": true
   },
   "outputs": [],
   "source": [
    "sdMl = np.std(Ml)"
   ]
  },
  {
   "cell_type": "code",
   "execution_count": 58,
   "metadata": {
    "collapsed": true
   },
   "outputs": [],
   "source": [
    "sdMw = np.std(Mw)"
   ]
  },
  {
   "cell_type": "code",
   "execution_count": 59,
   "metadata": {
    "collapsed": true
   },
   "outputs": [],
   "source": [
    "sdMs = np.std(Ms)"
   ]
  },
  {
   "cell_type": "code",
   "execution_count": 60,
   "metadata": {
    "collapsed": true
   },
   "outputs": [],
   "source": [
    "pdf = GaussianNB()"
   ]
  },
  {
   "cell_type": "code",
   "execution_count": 62,
   "metadata": {},
   "outputs": [],
   "source": [
    "norFl = np.random.normal(meanFl, sdFl, 1000)"
   ]
  },
  {
   "cell_type": "code",
   "execution_count": 64,
   "metadata": {},
   "outputs": [],
   "source": [
    "from scipy.stats import norm"
   ]
  },
  {
   "cell_type": "code",
   "execution_count": 67,
   "metadata": {},
   "outputs": [
    {
     "name": "stdout",
     "output_type": "stream",
     "text": [
      "33\n"
     ]
    }
   ],
   "source": [
    "print(len(data_ar))"
   ]
  },
  {
   "cell_type": "code",
   "execution_count": 68,
   "metadata": {
    "collapsed": true
   },
   "outputs": [],
   "source": [
    "xF = len(Fl)/len(data_ar)"
   ]
  },
  {
   "cell_type": "code",
   "execution_count": 69,
   "metadata": {},
   "outputs": [
    {
     "name": "stdout",
     "output_type": "stream",
     "text": [
      "0.18181818181818182\n"
     ]
    }
   ],
   "source": [
    "print(xF)"
   ]
  },
  {
   "cell_type": "code",
   "execution_count": 79,
   "metadata": {
    "collapsed": true
   },
   "outputs": [],
   "source": [
    "xM = len(Ml)/len(data_ar)"
   ]
  },
  {
   "cell_type": "code",
   "execution_count": 70,
   "metadata": {},
   "outputs": [
    {
     "name": "stdout",
     "output_type": "stream",
     "text": [
      "6\n"
     ]
    }
   ],
   "source": [
    "print(len(Fw))"
   ]
  },
  {
   "cell_type": "code",
   "execution_count": 71,
   "metadata": {},
   "outputs": [
    {
     "name": "stdout",
     "output_type": "stream",
     "text": [
      "27\n"
     ]
    }
   ],
   "source": [
    "print(len(Mw))"
   ]
  },
  {
   "cell_type": "code",
   "execution_count": 73,
   "metadata": {},
   "outputs": [],
   "source": [
    "norFs = norm.pdf(1, meanFs, sdFs)"
   ]
  },
  {
   "cell_type": "code",
   "execution_count": 74,
   "metadata": {
    "collapsed": true
   },
   "outputs": [],
   "source": [
    "norFl = norm.pdf(1, meanFl, sdFl)"
   ]
  },
  {
   "cell_type": "code",
   "execution_count": 75,
   "metadata": {
    "collapsed": true
   },
   "outputs": [],
   "source": [
    "norFw = norm.pdf(1, meanFw, sdFw)"
   ]
  },
  {
   "cell_type": "code",
   "execution_count": 76,
   "metadata": {
    "collapsed": true
   },
   "outputs": [],
   "source": [
    "F = norFs * norFl * norFw * xF"
   ]
  },
  {
   "cell_type": "code",
   "execution_count": 77,
   "metadata": {},
   "outputs": [
    {
     "name": "stdout",
     "output_type": "stream",
     "text": [
      "4.62843940913e-238\n"
     ]
    }
   ],
   "source": [
    "print(F)"
   ]
  },
  {
   "cell_type": "code",
   "execution_count": 78,
   "metadata": {
    "collapsed": true
   },
   "outputs": [],
   "source": [
    "def classify(s, l, w):\n",
    "    F = norm.pdf(s, meanFs, sdFs) * norm.pdf(l, meanFl, sdFl) * norm.pdf(w, meanFw, sdFw) * xF\n",
    "    M = norm.pdf(s, meanMs, sdMs) * norm.pdf(l, meanMl, sdMl) * norm.pdf(w, meanMw, sdMw) * xM\n",
    "    if F >= M :\n",
    "        return \"Female\"\n",
    "    else:\n",
    "        return \"Male\"\n",
    "    "
   ]
  },
  {
   "cell_type": "code",
   "execution_count": null,
   "metadata": {
    "collapsed": true
   },
   "outputs": [],
   "source": []
  }
 ],
 "metadata": {
  "kernelspec": {
   "display_name": "Python 3",
   "language": "python",
   "name": "python3"
  },
  "language_info": {
   "codemirror_mode": {
    "name": "ipython",
    "version": 3
   },
   "file_extension": ".py",
   "mimetype": "text/x-python",
   "name": "python",
   "nbconvert_exporter": "python",
   "pygments_lexer": "ipython3",
   "version": "3.6.1"
  }
 },
 "nbformat": 4,
 "nbformat_minor": 2
}
