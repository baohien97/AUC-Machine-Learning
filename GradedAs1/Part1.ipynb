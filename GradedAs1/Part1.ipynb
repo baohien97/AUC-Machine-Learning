{
 "cells": [
  {
   "cell_type": "markdown",
   "metadata": {
    "raw_mimetype": "text/markdown"
   },
   "source": [
    "# Graded Lab Assignment: Logistic Regression\n",
    "\n",
    "In this assignment you will classify hand-written digits using logistic regression.\n",
    "\n",
    "The assignment follows Andrew Ng's explanation of Logistic Regression and (re)watching his videos could be useful (Week 3)\n",
    "\n",
    "Publish your notebook (ipynb file) to your Machine Learning repository on Github ON TIME. We will check the last commit on the day of the deadline. \n",
    "\n",
    "### Deadline Tuesday, October 10th, 23:59\n",
    "\n",
    "Do not hand in any other files, the Notebook should contain all your answers.\n",
    "\n",
    "The points for the assignmnet are distributed as follows:\n",
    "* The implementation\n",
    "    - prediction_function (0.5)\n",
    "    - cost_function (1)\n",
    "    - compute_gradient (1)\n",
    "    - correct stop condition (2)\n",
    "    - preventing overfitting (0.5)\n",
    "    - systematically choosing learning rate (1) \n",
    "    - best score analysis (1)\n",
    "    - summary (1)\n",
    "    - comments (0.5)\n",
    "    - code (0.5)\n",
    "    "
   ]
  },
  {
   "cell_type": "code",
   "execution_count": 389,
   "metadata": {},
   "outputs": [
    {
     "name": "stdout",
     "output_type": "stream",
     "text": [
      "Populating the interactive namespace from numpy and matplotlib\n"
     ]
    }
   ],
   "source": [
    "%pylab inline\n",
    "import numpy as np"
   ]
  },
  {
   "cell_type": "markdown",
   "metadata": {},
   "source": [
    "Scikit-learn is a toolkit that has several datasets built in. You first need to install the toolkit: http://scikit-learn.org/stable/install.html\n",
    "\n",
    "The MNIST dataset that you will be using for this assignment contains images of hand-written digits that are only 8 by 8 pixels, which means the algorithm (logistic regression) should run on every computer.\n",
    "\n",
    "The code in the cell below shows how to work with the digits dataset and  how to visualize it. As you can see the numbers are not very clear in 8x8 pixels images, this means we cannot expect our logistic regression will have a very high classification score."
   ]
  },
  {
   "cell_type": "code",
   "execution_count": 390,
   "metadata": {},
   "outputs": [
    {
     "name": "stdout",
     "output_type": "stream",
     "text": [
      "The numbers shown are: \n",
      " [[0 1 2 3 4]\n",
      " [5 6 7 8 9]]\n"
     ]
    },
    {
     "data": {
      "image/png": "[encoded data removed]",
      "text/plain": [
       "<matplotlib.figure.Figure at 0x1f31b13e908>"
      ]
     },
     "metadata": {},
     "output_type": "display_data"
    }
   ],
   "source": [
    "from sklearn.datasets import load_digits\n",
    "\n",
    "digits = load_digits(n_class=10)\n",
    "\n",
    "#Create two rows with numbers\n",
    "firstrow = np.hstack(digits.images[:5,:,:])\n",
    "secondrow = np.hstack(digits.images[5:10,:,:])\n",
    "\n",
    "plt.gray()\n",
    "plt.axis('off')\n",
    "\n",
    "#Show both rows at the same time\n",
    "plt.imshow(np.vstack((firstrow,secondrow)))\n",
    "\n",
    "print (\"The numbers shown are: \\n\", np.vstack((digits.target[:5], digits.target[5:10])))"
   ]
  },
  {
   "cell_type": "markdown",
   "metadata": {},
   "source": [
    "## The implementation\n",
    "\n",
    "You have to implement the next three functions and fill in the body of the loop in order to create a correct implementation of logistic regression. Don't change the definitions of the functions and input parameters.\n",
    "\n",
    "(1) Make sure that you do not overfit by keeping track of the score on the test set and implementing a correct stop condition. (2) Systematically pick a learning rate alpha that makes sure the algorithm learns in a smooth and stable manner (show how you do it). \n",
    "(3) Plot how your score on the test set improves over time. My best score was about 85% correct! \n",
    "(4) Write a short summary of what you have done (and why) to accomplish steps (1), (2) and (3). \n",
    "(5) Make sure to comment your code!"
   ]
  },
  {
   "cell_type": "code",
   "execution_count": 391,
   "metadata": {
    "collapsed": true
   },
   "outputs": [],
   "source": [
    "# helper function\n",
    "def sigmoid(x):\n",
    "    return 1 / (1 + np.exp(-x))"
   ]
  },
  {
   "cell_type": "code",
   "execution_count": 392,
   "metadata": {},
   "outputs": [],
   "source": [
    "#Make a prediction function h\n",
    "def prediction_function(x,theta):\n",
    "    x_predict = sigmoid(np.dot(x,theta))\n",
    "    return x_predict"
   ]
  },
  {
   "cell_type": "code",
   "execution_count": 482,
   "metadata": {},
   "outputs": [],
   "source": [
    "#Use the output of hypothesis function to compute the cost function J (vectorised):\n",
    "def cost_function(x_predict,y):        \n",
    "    m = len(y)\n",
    "    \n",
    "    #first half of formula \n",
    "    first = np.dot((-y).T, np.log(x_predict))\n",
    "    \n",
    "    #second half\n",
    "    second = np.dot((1-y).T, np.log(1-x_predict))\n",
    "    \n",
    "    #summation and division by length of vector y\n",
    "    cost = (first - second)/m \n",
    "    return cost"
   ]
  },
  {
   "cell_type": "code",
   "execution_count": 483,
   "metadata": {},
   "outputs": [
    {
     "data": {
      "text/plain": [
       "(64, 10)"
      ]
     },
     "execution_count": 483,
     "metadata": {},
     "output_type": "execute_result"
    }
   ],
   "source": [
    "#Create a function that returns the gradient values, given h (x_predict), y and x (vectorised):\n",
    "def compute_gradient(x_predict, y, x):\n",
    "    \n",
    "    #dot behaves the same way as multiply\n",
    "    grads = np.dot(x.T, x_predict - y)/size(x) \n",
    "    return grads\n",
    "\n",
    "#just checking the shape of grads matrix here\n",
    "compute_gradient(x_predict.reshape(1,10), y, x[1, :].reshape(1,64)).shape"
   ]
  },
  {
   "cell_type": "code",
   "execution_count": 500,
   "metadata": {},
   "outputs": [
    {
     "data": {
      "image/png": "[encoded data removed]",
      "text/plain": [
       "<matplotlib.figure.Figure at 0x1f32010c7f0>"
      ]
     },
     "metadata": {},
     "output_type": "display_data"
    }
   ],
   "source": [
    "#It is important to check that you're not overfitting by testing your prediction on a testset\n",
    "x = np.reshape(digits.images[:1500],(1500,64))\n",
    "x_test = np.reshape(digits.images[1500:],(297,64))\n",
    "\n",
    "target = digits.target[:1500]\n",
    "target_test = digits.target[1500:]\n",
    "\n",
    "def training(alpha, iterations):\n",
    "    theta = np.zeros((64,10))\n",
    "\n",
    "    # matrix of all costs after n0 of iterations\n",
    "    cost_iterations = np.zeros(iterations)\n",
    "    for i in range(iterations):\n",
    "\n",
    "        #cumulatively add the cost after each of the 1500 iterations\n",
    "        cost = 0\n",
    "        for j in range(x.shape[0]):\n",
    "\n",
    "            ## given\n",
    "            y = np.zeros(10)\n",
    "            y[target[j]] = 1\n",
    "            x_predict = prediction_function(x[j,:].T,theta)\n",
    "            ##\n",
    "\n",
    "            cost += cost_function(x_predict, y)\n",
    "\n",
    "            #compute gradient with x_predict and x[j] transformed to 2-D matrix\n",
    "            grads = compute_gradient(x_predict.reshape(1,10), y, x[j,:].reshape(1,64))\n",
    "\n",
    "            #update theta\n",
    "            theta = theta - alpha*grads\n",
    "        cost_iterations[i]= cost \n",
    "\n",
    "    #transform interations into 1-D array with values from 1 to 25\n",
    "    plt.plot(np.arange(iterations), cost_iterations)\n",
    "    return theta\n",
    "\n",
    "alpha1 = training(0.0001, 25)\n",
    "alpha2 = training(0.001, 25)\n",
    "alpha3 = training(0.01, 25)\n",
    "alpha4 = training(0.02, 25)\n",
    "alpha5 = training(0.1, 25) #best"
   ]
  },
  {
   "cell_type": "code",
   "execution_count": 501,
   "metadata": {},
   "outputs": [
    {
     "name": "stdout",
     "output_type": "stream",
     "text": [
      "87.87878787878788\n",
      "88.21548821548821\n",
      "87.54208754208754\n",
      "87.54208754208754\n",
      "82.82828282828282\n",
      "83.16498316498317\n"
     ]
    },
    {
     "data": {
      "image/png": "[encoded data removed]",
      "text/plain": [
       "<matplotlib.figure.Figure at 0x1f31ffef748>"
      ]
     },
     "metadata": {},
     "output_type": "display_data"
    }
   ],
   "source": [
    "#apply on test set\n",
    "def test_set(alpha, iters):\n",
    "    theta = training(alpha, iters)\n",
    "    score = 0\n",
    "    for j in range(x_test.shape[0]):\n",
    "        y=np.zeros(10)\n",
    "        y[target_test[j]]= 1\n",
    "        x_predict = prediction_function(x_test[j, :].T, theta)\n",
    "        max_pred_ind = np.argmax(x_predict) #argmax gets the index of maximum in an nparray\n",
    "        if max_pred_ind == target_test[j]:\n",
    "            score += 1\n",
    "    accuracy = score/x_test.shape[0] * 100\n",
    "    print(accuracy)\n",
    "\n",
    "test1 = test_set(0.01, 10)\n",
    "test2 = test_set(0.01, 25)\n",
    "test3 = test_set(0.01, 50)\n",
    "test4 = test_set(0.01, 75)\n",
    "test5 = test_set(0.1, 25)\n",
    "test6 = test_set(0.1, 50)"
   ]
  },
  {
   "cell_type": "markdown",
   "metadata": {},
   "source": [
    "## Summary\n",
    "\n",
    "In order to choose the best alpha, I looked at the plot of the cost function against the number of iterations (25). I tested my training-set algorithm on 5 different values of alpha, ranging from 0.0001 to 0.1, with 0.1 generating the lowest cost function. Yet, 0.01 turns out to be a better alpha for the test set. After testing this on a test set (x_test), it was found that the overfitting was not a problem. Hence I did not have to use a regularization parameter and modify my cost function.\n",
    "\n",
    "On the test set, it was seen that the number of iterations that produced the best theta and hence best accuracy was 25 (>88%).\n",
    "\n",
    "The cells below are just me checking the shape and the behaviour of the functions.\n"
   ]
  },
  {
   "cell_type": "code",
   "execution_count": 502,
   "metadata": {},
   "outputs": [
    {
     "data": {
      "text/plain": [
       "1500"
      ]
     },
     "execution_count": 502,
     "metadata": {},
     "output_type": "execute_result"
    }
   ],
   "source": [
    "x = np.reshape(digits.images[:1500],(1500,64))\n",
    "len(x)"
   ]
  },
  {
   "cell_type": "code",
   "execution_count": 503,
   "metadata": {},
   "outputs": [
    {
     "data": {
      "text/plain": [
       "array([  4.19644511e-14,   9.99999964e-01,   6.90705561e-08,\n",
       "         1.60770474e-11,   8.87208065e-05,   1.30322951e-06,\n",
       "         1.42291854e-09,   3.57435750e-07,   4.19552993e-02,\n",
       "         4.61607686e-12])"
      ]
     },
     "execution_count": 503,
     "metadata": {},
     "output_type": "execute_result"
    }
   ],
   "source": [
    "#checking behavior of hypothesis function\n",
    "prediction_function(x[1], theta)"
   ]
  },
  {
   "cell_type": "code",
   "execution_count": 504,
   "metadata": {},
   "outputs": [
    {
     "data": {
      "text/plain": [
       "0.0024485781165875802"
      ]
     },
     "execution_count": 504,
     "metadata": {},
     "output_type": "execute_result"
    }
   ],
   "source": [
    "#check cost function\n",
    "cost_function(prediction_function(x[1400,:].T, theta), y)"
   ]
  },
  {
   "cell_type": "code",
   "execution_count": 505,
   "metadata": {},
   "outputs": [
    {
     "name": "stdout",
     "output_type": "stream",
     "text": [
      "(1500,)\n"
     ]
    }
   ],
   "source": [
    "print(target.shape)"
   ]
  },
  {
   "cell_type": "code",
   "execution_count": 506,
   "metadata": {},
   "outputs": [
    {
     "name": "stdout",
     "output_type": "stream",
     "text": [
      "2\n"
     ]
    }
   ],
   "source": [
    "#check behavior of argmax\n",
    "print(argmax(y))"
   ]
  },
  {
   "cell_type": "code",
   "execution_count": 507,
   "metadata": {},
   "outputs": [
    {
     "name": "stdout",
     "output_type": "stream",
     "text": [
      "[[  0.00000000e+00   0.00000000e+00   0.00000000e+00   0.00000000e+00\n",
      "    0.00000000e+00   0.00000000e+00   0.00000000e+00   0.00000000e+00\n",
      "    0.00000000e+00   0.00000000e+00]\n",
      " [ -2.36933412e-02  -5.26574852e-02   2.33036645e-02   1.71381885e-02\n",
      "   -5.04970420e-03   4.92729727e-02  -1.84663685e-02  -1.47640784e-01\n",
      "   -2.38923259e-02  -3.85348301e-02]\n",
      " [ -7.57020032e-02  -3.99155175e-02   3.34480960e-02  -2.55494279e-01\n",
      "   -2.45362986e-01   3.15314823e-01  -1.91684418e-01  -8.13366430e-02\n",
      "   -3.29933773e-02  -4.98078886e-03]\n",
      " [  4.62149121e-02   8.35877298e-02  -1.74871628e-02  -1.16836000e-02\n",
      "   -2.55630159e-01  -3.20076129e-01  -7.54623142e-02  -5.97336422e-02\n",
      "   -4.25238289e-01   2.45487492e-02]\n",
      " [ -1.20814838e-01  -5.53733379e-01  -7.68532465e-03   1.85679779e-01\n",
      "   -2.85026553e-02   5.02931810e-02  -1.23950746e-01  -3.68625078e-03\n",
      "   -1.08301792e-01  -2.92031214e-01]\n",
      " [ -1.80897073e-01   3.75689933e-01  -1.74362134e-01  -1.19941818e-02\n",
      "   -2.76057585e-01   3.02706545e-01  -5.78601840e-02   2.64162913e-01\n",
      "    4.43483786e-02  -3.87311160e-01]\n",
      " [ -1.09711651e-01  -8.60485111e-02  -8.06919938e-02   1.21718110e-01\n",
      "   -2.49399172e-01   3.98355457e-01  -1.66187904e-01   2.16380138e-01\n",
      "   -3.63573602e-01  -1.49171528e-01]\n",
      " [ -1.39120302e-02  -3.12458781e-02  -1.26392294e-02  -5.95062145e-02\n",
      "    2.37293788e-02  -9.69713592e-02  -1.46955029e-03   9.38958386e-02\n",
      "   -2.18593346e-02  -3.22280105e-01]\n",
      " [ -1.10232241e-05  -1.83833601e-03  -3.69077320e-04  -3.00390010e-03\n",
      "   -1.75341561e-04   1.20062937e-03  -1.58013624e-05  -1.93274680e-05\n",
      "    7.26179736e-02  -1.94747741e-04]\n",
      " [ -8.54219216e-02  -3.80312911e-01   1.16877653e-01  -4.43240538e-02\n",
      "   -1.24463479e-02  -2.41393985e-02  -2.56169761e-01  -1.30832436e-01\n",
      "    1.26985670e-01  -6.47231328e-02]\n",
      " [  3.97176755e-02  -5.32938118e-01   1.50889477e-01   1.45080797e-01\n",
      "   -1.40309421e-01   1.37872412e-01  -1.07338011e-01   1.41320658e-01\n",
      "    6.07757722e-01   2.14894394e-01]\n",
      " [  3.13845881e-02  -1.65983212e-01  -1.00708499e-01  -1.55325361e-01\n",
      "   -1.70665102e-01   2.70955731e-03  -2.12417527e-01   1.31826137e-01\n",
      "   -7.13552808e-02   1.22275815e-01]\n",
      " [  1.03219134e-01  -7.18306187e-02   1.59087869e-01  -5.34648253e-02\n",
      "   -2.34733793e-01  -4.30270015e-02  -2.43240925e-01   4.64717086e-01\n",
      "   -2.78736576e-01  -2.09910717e-01]\n",
      " [  2.10462756e-01   1.46547605e-01  -4.20126949e-02   8.81950480e-02\n",
      "   -2.60569409e-01  -3.41935535e-03  -6.40230245e-02   5.37558907e-02\n",
      "    7.60296479e-02   1.19322026e-01]\n",
      " [ -5.24290498e-02  -5.09397727e-01   2.27389566e-02   3.00104474e-01\n",
      "   -1.48962054e-01  -1.71104760e-01  -1.37657594e-01   2.25373839e-03\n",
      "    2.15581239e-01   3.68320822e-01]\n",
      " [ -1.43495627e-02  -1.29355188e-02  -3.17826054e-03  -5.42909677e-02\n",
      "    3.20239945e-04  -6.34716277e-02  -5.64839259e-04   1.08840322e-01\n",
      "   -1.46117573e-02  -1.08804033e-01]\n",
      " [ -1.11978822e-04   5.53991266e-03   6.24172182e-05  -5.14614149e-04\n",
      "   -2.92051215e-03  -3.92232700e-03  -3.41957102e-04  -1.09459066e-05\n",
      "   -1.43761685e-03  -2.69313947e-04]\n",
      " [  2.32591045e-02   2.84887458e-01  -9.73115229e-02   3.19487631e-02\n",
      "    7.34779121e-02  -5.40140873e-02  -6.91060722e-02  -1.52019010e-01\n",
      "    1.76272002e-01   8.35419717e-02]\n",
      " [  1.20149089e-01   9.78407896e-02   4.33598293e-02  -3.07585334e-01\n",
      "    1.11300364e-01   1.85609402e-01   1.65402927e-01  -2.87018712e-01\n",
      "    1.27301324e-01   2.55686398e-01]\n",
      " [ -2.07683754e-02   5.46638334e-01  -1.37505340e-01  -2.19453522e-01\n",
      "    9.37789273e-02   1.68819969e-01   2.71208627e-02  -3.53655349e-01\n",
      "    9.37617849e-02  -4.96829075e-02]\n",
      " [ -1.56205407e-01   5.73670125e-01   1.33422189e-01   3.28780767e-01\n",
      "    1.65507572e-02  -4.00604685e-01  -4.37941368e-01  -4.57891816e-02\n",
      "    3.07064273e-02   1.33116533e-01]\n",
      " [  2.69249233e-01  -8.27095642e-02   1.36352662e-02  -1.31216045e-01\n",
      "   -3.03905761e-02  -5.70338644e-01  -5.51572169e-01  -1.23851070e-02\n",
      "    3.43823765e-01   5.66949458e-01]\n",
      " [  5.52083208e-02   8.27113854e-02   7.40701736e-02   3.30328915e-02\n",
      "    5.14842676e-03  -6.21910761e-01  -2.14971489e-01   6.19517588e-02\n",
      "    5.75410544e-02   6.59069194e-02]\n",
      " [ -4.87798616e-03  -2.12176057e-03  -6.08999238e-05  -1.96797769e-02\n",
      "    2.14877092e-02  -9.46848337e-03  -2.32118743e-04   5.24719070e-03\n",
      "   -5.01491367e-03  -6.77368959e-02]\n",
      " [ -5.94051941e-05   2.38423492e-03  -6.53217906e-05  -1.02117231e-06\n",
      "    2.17202042e-03  -8.69499280e-03  -1.80214267e-04  -2.89925200e-04\n",
      "   -1.96623643e-02  -7.30743774e-05]\n",
      " [  5.88867777e-02   1.86936427e-02  -1.76242809e-01  -1.19106736e-01\n",
      "    1.02677395e-01   1.12009930e-01   4.75264175e-02  -2.58022434e-01\n",
      "   -3.76272165e-01  -2.06163590e-01]\n",
      " [ -5.94146796e-02  -4.27861934e-02  -4.57874165e-01  -5.63772993e-01\n",
      "    1.73461703e-01   1.91535576e-01  -1.98638667e-03  -4.46602139e-02\n",
      "    3.99062551e-03   1.39169558e-01]\n",
      " [ -2.31900125e-01   2.26235329e-01  -4.47525100e-01  -1.34411917e-01\n",
      "   -6.91146218e-02   4.24780955e-02   1.81635722e-01  -2.26914296e-01\n",
      "    4.66149500e-01   1.09699708e-01]\n",
      " [ -4.48621069e-01  -2.60993036e-01  -1.79397813e-01  -1.17380961e-01\n",
      "   -2.33130541e-02   1.31212517e-01  -9.71524496e-02  -7.67541835e-02\n",
      "   -2.30396859e-01   7.76385993e-03]\n",
      " [  2.57211792e-03   1.95165097e-02   1.13602260e-01  -2.46969500e-01\n",
      "    1.26513756e-01  -9.90683213e-02  -1.25630016e-01   1.91103102e-02\n",
      "    1.05394714e-01   5.11369834e-01]\n",
      " [  8.88812410e-02  -2.07207866e-01  -3.62602434e-02  -3.18353814e-01\n",
      "    3.30426351e-01  -4.84448516e-01  -3.65956486e-01   1.43893401e-01\n",
      "   -2.60042482e-01  -2.49680934e-01]\n",
      " [ -1.03463289e-03  -3.29570898e-05  -3.31951774e-07  -7.55544227e-07\n",
      "    3.78815905e-03  -1.15809947e-05  -4.30777626e-05  -7.87264414e-04\n",
      "   -9.68558517e-05  -1.87997623e-02]\n",
      " [  0.00000000e+00   0.00000000e+00   0.00000000e+00   0.00000000e+00\n",
      "    0.00000000e+00   0.00000000e+00   0.00000000e+00   0.00000000e+00\n",
      "    0.00000000e+00   0.00000000e+00]\n",
      " [  1.32158887e-01  -1.08842544e-01  -1.76034306e-01  -1.09555549e-01\n",
      "    1.65102150e-01  -1.78443149e-01   5.30767433e-02  -9.09571454e-02\n",
      "   -5.29178707e-01  -4.42739458e-01]\n",
      " [  1.03175300e-01  -4.16024592e-02  -3.98206298e-01  -2.63540429e-01\n",
      "    2.23191658e-01   2.70336241e-02   4.98271863e-02  -6.61260099e-02\n",
      "   -2.06200649e-01  -1.61288739e-01]\n",
      " [ -2.22193542e-01  -1.02726536e-01  -1.15710313e-01  -7.93521025e-02\n",
      "    1.56722735e-03  -1.24166722e-01   1.53538031e-01  -2.35217736e-02\n",
      "    4.89785157e-01   5.64029289e-01]\n",
      " [ -3.73839095e-01   1.35725032e-01  -2.04661803e-01   2.34940780e-01\n",
      "    5.53389611e-02  -2.43363978e-01  -1.04835051e-01   4.86290169e-02\n",
      "    1.44608674e-01  -4.76449359e-01]\n",
      " [ -6.53200058e-02  -4.00080133e-02  -2.94744331e-01   2.72435296e-02\n",
      "    1.06258466e-01  -1.24762163e-01   7.07897805e-02   1.53779003e-01\n",
      "   -4.20023190e-01  -3.69452737e-01]\n",
      " [  4.90019690e-02  -1.99567518e-01  -3.02722349e-01  -7.15094420e-02\n",
      "    1.05897998e-01   1.57516852e-01   3.85094430e-03   2.15166789e-01\n",
      "   -8.32137192e-01   7.80367396e-02]\n",
      " [  0.00000000e+00   0.00000000e+00   0.00000000e+00   0.00000000e+00\n",
      "    0.00000000e+00   0.00000000e+00   0.00000000e+00   0.00000000e+00\n",
      "    0.00000000e+00   0.00000000e+00]\n",
      " [ -2.33129916e-03  -3.32813150e-05  -1.08046020e-05  -1.51419736e-06\n",
      "    1.47796135e-03  -2.84253655e-05  -5.22518420e-03  -1.72536916e-05\n",
      "   -2.16983147e-03  -5.56904320e-07]\n",
      " [ -6.52016276e-02  -6.92085161e-01   4.56749837e-02  -4.33729504e-02\n",
      "    2.45402379e-01  -2.08698372e-01  -4.22378021e-01  -1.70429453e-01\n",
      "   -1.95849779e-01  -3.06370858e-02]\n",
      " [  2.23333414e-01  -2.47387615e-02   6.72962851e-02  -1.00394370e-01\n",
      "    5.99801374e-02  -1.93179933e-01   4.31447287e-01  -9.07652876e-02\n",
      "    3.48791261e-01  -7.21889658e-01]\n",
      " [ -1.74061507e-01  -1.09234186e-01   3.34253886e-01  -7.89782688e-01\n",
      "    1.99196056e-01  -2.33055585e-01   2.66308419e-02   1.73971303e-01\n",
      "    1.83957230e-01  -6.98249594e-01]\n",
      " [ -2.60257166e-01   1.59735886e-01  -2.90977575e-01  -5.09392543e-03\n",
      "    2.15159923e-01  -1.19842391e-01  -6.72241331e-02   2.04254739e-01\n",
      "    1.99579727e-01  -5.05558308e-01]\n",
      " [ -8.59554719e-03  -3.70327636e-01  -3.32365785e-01   1.92178731e-01\n",
      "    2.66066362e-02   1.48414892e-01  -2.83239831e-02   1.45882005e-01\n",
      "    2.14224653e-01  -2.70957925e-01]\n",
      " [  2.42814351e-02  -1.52041587e-01  -3.21309760e-01   3.87616551e-01\n",
      "    1.51024897e-02   3.03987505e-02   2.93931701e-01   9.77626405e-04\n",
      "    5.42269902e-02  -9.03439667e-02]\n",
      " [ -9.80384578e-05  -4.69127613e-03  -9.67985275e-05  -7.66334905e-04\n",
      "   -7.03257146e-04  -2.58749736e-03   8.39574030e-02  -2.49207936e-05\n",
      "   -1.11478925e-03   2.33634419e-04]\n",
      " [ -8.37269553e-03  -5.51031294e-04   6.60230162e-03  -1.29502346e-05\n",
      "    5.49424951e-03  -2.05637573e-06  -4.54548783e-04  -2.71453785e-04\n",
      "   -3.18093391e-03  -2.02598636e-07]\n",
      " [ -1.14821726e-01  -1.47459597e-01   1.52682474e-01   2.08418732e-02\n",
      "    1.43982393e-01   1.01825790e-03  -1.57034422e-01  -6.99251823e-02\n",
      "   -2.64933977e-01   1.92784791e-01]\n",
      " [  5.76708522e-02  -6.09641643e-02  -8.47282656e-03   3.29246028e-02\n",
      "   -1.60731537e-01  -2.17897626e-01   1.62814421e-01  -1.00059464e-01\n",
      "    1.98291102e-01  -2.03220534e-01]\n",
      " [ -2.16944536e-03   2.51185057e-01   2.81759803e-01  -2.31509594e-01\n",
      "   -5.00942788e-02   4.25600653e-02   1.07942037e-01   1.41713700e-01\n",
      "   -4.67387259e-01  -1.71003303e-01]\n",
      " [  2.08927160e-02   4.71994877e-02   1.70940078e-01   1.30982441e-01\n",
      "    4.20595391e-02   2.76639090e-02  -2.00735734e-01  -4.25860421e-01\n",
      "   -2.42850239e-01  -1.49327656e-01]\n",
      " [  2.52566778e-02  -6.93204647e-02   1.75098752e-01  -7.48587604e-02\n",
      "   -2.16914103e-01   5.37001358e-02   1.64998458e-01  -4.75064863e-01\n",
      "    1.12851465e-02  -1.56563122e-01]\n",
      " [ -6.94254899e-02  -2.63899635e-01   1.28908837e-01   2.23975681e-01\n",
      "   -2.57917890e-01  -2.14220818e-01  -1.20753145e-02  -8.66743902e-02\n",
      "   -4.60266773e-02   7.70236129e-02]\n",
      " [ -5.33699311e-03   1.99492746e-01   1.69398702e-03  -9.46455002e-02\n",
      "   -1.64609963e-02  -2.78162169e-02  -2.03159021e-01  -1.60431870e-03\n",
      "   -4.74341737e-02   7.99119002e-02]\n",
      " [ -2.87816962e-06  -1.78652179e-04   2.20415547e-03  -2.12314386e-06\n",
      "   -3.52031456e-06  -1.39924742e-07  -6.04687387e-06  -8.90078832e-05\n",
      "   -9.30210058e-04  -4.76114295e-08]\n",
      " [ -1.93229438e-02  -9.98883576e-02   5.50374120e-02   8.60534903e-02\n",
      "   -1.62978519e-02   3.19233109e-02  -1.50554624e-02  -1.75610513e-01\n",
      "   -6.68849026e-02  -3.27180410e-02]\n",
      " [ -1.13275749e-01  -3.38027930e-01   6.14390998e-02   1.54021916e-01\n",
      "   -2.62586589e-01   1.63367111e-01  -2.26630445e-01  -1.57916653e-01\n",
      "   -6.75679309e-01  -4.52018318e-03]\n",
      " [  9.98458484e-03   2.40556528e-02  -6.67217914e-02  -1.54139104e-02\n",
      "   -1.71907599e-01   1.24277243e-01  -1.84108129e-01  -1.87822520e-01\n",
      "   -1.55054632e-01  -1.85970300e-01]\n",
      " [ -2.01934301e-01   7.78605964e-02  -5.28352530e-02  -3.75778194e-02\n",
      "   -1.65950073e-01  -5.62273840e-02  -1.67030827e-01  -2.79521063e-01\n",
      "   -2.09063751e-02   1.55920881e-01]\n",
      " [ -1.55629786e-01   2.22260091e-01   2.19209525e-01   4.10498484e-02\n",
      "   -2.61609217e-01  -1.20162652e-01   1.62654087e-01  -4.09829355e-01\n",
      "   -1.34704508e-01  -1.52762642e-01]\n",
      " [ -7.96560632e-02  -2.75688146e-01   2.83312047e-01  -1.60211298e-01\n",
      "   -1.14469489e-01  -3.32193282e-01  -2.04668493e-01  -1.04199200e-01\n",
      "   -3.62788267e-01  -1.01005319e-01]\n",
      " [ -1.61092068e-02   1.38192389e-01  -6.39106826e-03  -2.74046302e-01\n",
      "   -9.10412041e-03  -1.01647345e-01  -1.19716001e-01  -4.54414124e-03\n",
      "   -1.11559489e-01  -2.33959775e-02]]\n"
     ]
    },
    {
     "data": {
      "image/png": "[encoded data removed]",
      "text/plain": [
       "<matplotlib.figure.Figure at 0x1f32140aeb8>"
      ]
     },
     "metadata": {},
     "output_type": "display_data"
    }
   ],
   "source": [
    "#check an example theta\n",
    "theta = training(0.1, 25)\n",
    "print(theta)"
   ]
  },
  {
   "cell_type": "code",
   "execution_count": null,
   "metadata": {
    "collapsed": true
   },
   "outputs": [],
   "source": []
  }
 ],
 "metadata": {
  "anaconda-cloud": {},
  "celltoolbar": "Raw Cell Format",
  "kernelspec": {
   "display_name": "Python 3",
   "language": "python",
   "name": "python3"
  },
  "language_info": {
   "codemirror_mode": {
    "name": "ipython",
    "version": 3
   },
   "file_extension": ".py",
   "mimetype": "text/x-python",
   "name": "python",
   "nbconvert_exporter": "python",
   "pygments_lexer": "ipython3",
   "version": "3.6.1"
  }
 },
 "nbformat": 4,
 "nbformat_minor": 1
}
