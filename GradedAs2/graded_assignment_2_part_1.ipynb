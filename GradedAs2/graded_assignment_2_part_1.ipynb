{
 "cells": [
  {
   "cell_type": "markdown",
   "metadata": {},
   "source": [
    "# Graded Lab Assignment 2: Evaluate classifiers (10 points)\n",
    " \n",
    "In this assignment you will optimize and compare the perfomance of a parametric (logistic regression) and non-parametric (k-nearest neighbours) classifier on the MNIST dataset.\n",
    "\n",
    "Publish your notebook (ipynb file) to your Machine Learning repository on Github ON TIME. We will check the last commit on the day of the deadline.  \n",
    "\n",
    "### Deadline Friday, November 17, 23:59.\n",
    "\n",
    "This notebook consists of three parts: design, implementation, results & analysis. \n",
    "We provide you with the design of the experiment and you have to implement it and analyse the results.\n",
    "\n",
    "### Criteria used for grading\n",
    "* Explain and analyse all results.\n",
    "* Make your notebook easy to read. When you are finished take your time to review it!\n",
    "* You do not want to repeat the same chunks of code multiply times. If your need to do so, write a function. \n",
    "* The implementation part of this assignment needs careful design before you start coding. You could start by writing pseudocode.\n",
    "* In this exercise the insights are important. Do not hide them somewhere in the comments in the implementation, but put them in the Analysis part\n",
    "* Take care that all the figures and tables are well labeled and numbered so that you can easily refer to them.\n",
    "* A plot should have a title and axes labels.\n",
    "* You may find that not everything is 100% specified in this assignment. That is correct! Like in real life you probably have to make some choices. Motivate your choices.\n"
   ]
  },
  {
   "cell_type": "markdown",
   "metadata": {},
   "source": [
    "### Grading points distribution\n",
    "\n",
    "* Implementation 5 points\n",
    "* Results and analysis 5 points"
   ]
  },
  {
   "cell_type": "markdown",
   "metadata": {},
   "source": [
    "## Design of the experiment"
   ]
  },
  {
   "cell_type": "markdown",
   "metadata": {},
   "source": [
    "You do not have to keep the order of this design and are allowed to alter it if you are confident.\n",
    "* Import all necessary modules. Try to use as much of the available functions as possible. \n",
    "* Use the provided train and test set of MNIST dataset.\n",
    "* Pre-process data eg. normalize/standardize, reformat, etc.           \n",
    "  Do whatever you think is necessary and motivate your choices.\n",
    "* (1) Train logistic regression and k-nn using default settings.\n",
    "* Use 10-fold cross validation for each classifier to optimize the performance for one parameter: \n",
    "    * consult the documentation on how cross validation works in sklearn (important functions:             cross_val_score(), GridSearchCV()).\n",
    "    * Optimize k for k-nn,\n",
    "    * for logistic regression focus on the regularization parameter,\n",
    "* (2) Train logistic regression and k-nn using optimized parameters.\n",
    "* Show performance on the cross-validation set for (1) and (2) for both classifiers: \n",
    "    * report the average cross validation error rates (alternatively, the average accuracies - it's up to you) and standard deviation,\n",
    "    * plot the average cross valildation errors (or accuracies) for different values of the parameter that you tuned. \n",
    "* Compare performance on the test set for two classifiers:\n",
    "    * produce the classification report for both classifiers, consisting of precision, recall, f1-score. Explain and analyse the results.\n",
    "    * print confusion matrix for both classifiers and compare whether they missclassify the same  classes. Explain and analyse the results.\n",
    "* Discuss your results.\n",
    "* BONUS: only continue with this part if you are confident that your implemention is complete \n",
    "    * tune more parameters of logistic regression\n",
    "    * add additional classifiers (NN, Naive Bayes, decision tree), \n",
    "    * analyse additional dataset (ex. Iris dataset)"
   ]
  },
  {
   "cell_type": "markdown",
   "metadata": {},
   "source": [
    "## Implementation of the experiment"
   ]
  },
  {
   "cell_type": "code",
   "execution_count": 1,
   "metadata": {},
   "outputs": [
    {
     "name": "stdout",
     "output_type": "stream",
     "text": [
      "Populating the interactive namespace from numpy and matplotlib\n"
     ]
    }
   ],
   "source": [
    "%pylab inline"
   ]
  },
  {
   "cell_type": "code",
   "execution_count": 55,
   "metadata": {
    "collapsed": true
   },
   "outputs": [],
   "source": [
    "# load all libraries and modules\n",
    "from sklearn.datasets import load_digits\n",
    "import numpy as np\n",
    "from sklearn import datasets # to load the dataset\n",
    "from sklearn.model_selection import train_test_split #to split in train and test set\n",
    "from sklearn.model_selection import cross_val_score, GridSearchCV #BONUS\n",
    "from sklearn.metrics import classification_report, accuracy_score, confusion_matrix # for reporting\n",
    "from scipy.spatial import distance #to calculate the Euclidean distance\n",
    "from collections import Counter #to count unique occurances of items in array, for majority voting\n",
    "from sklearn.preprocessing import StandardScaler # to normalize data (NN is very sensitive to this!)\n",
    "from sklearn.neighbors import KNeighborsClassifier # k nearest neighbour classifier\n",
    "from sklearn.neural_network import MLPClassifier # neural network classifier\n",
    "from sklearn.linear_model import LogisticRegression #logistic regression classifier"
   ]
  },
  {
   "cell_type": "code",
   "execution_count": 3,
   "metadata": {
    "collapsed": true
   },
   "outputs": [],
   "source": [
    "# load mnist dataset and split in train and test set.\n",
    "digits = datasets.load_digits()\n",
    "X_train_mnist = np.reshape(digits.images[:1500],(1500,64))\n",
    "X_test_mnist = np.reshape(digits.images[1500:],(297,64))\n",
    "y_train_mnist = digits.target[:1500]\n",
    "y_test_mnist = digits.target[1500:]\n"
   ]
  },
  {
   "cell_type": "code",
   "execution_count": 4,
   "metadata": {
    "collapsed": true
   },
   "outputs": [],
   "source": [
    "#preprocess data (normalisation)\n",
    "scaler = StandardScaler()\n",
    "scaler.fit(X_train_mnist)\n",
    "scaler.fit(X_test_mnist)\n",
    "normalised_X_train = scaler.transform(X_train_mnist)\n",
    "normalised_X_test = scaler.transform(X_test_mnist)"
   ]
  },
  {
   "cell_type": "code",
   "execution_count": 5,
   "metadata": {},
   "outputs": [
    {
     "data": {
      "text/plain": [
       "KNeighborsClassifier(algorithm='auto', leaf_size=30, metric='minkowski',\n",
       "           metric_params=None, n_jobs=1, n_neighbors=5, p=2,\n",
       "           weights='uniform')"
      ]
     },
     "execution_count": 5,
     "metadata": {},
     "output_type": "execute_result"
    }
   ],
   "source": [
    "#Train logistic regression and k-nn using default settings.\n",
    "log_regr = LogisticRegression()\n",
    "k_nn_classifier = KNeighborsClassifier()\n",
    "log_regr.fit(normalised_X_train, y_train_mnist)\n",
    "k_nn_classifier.fit(normalised_X_train, y_train_mnist)"
   ]
  },
  {
   "cell_type": "code",
   "execution_count": 100,
   "metadata": {},
   "outputs": [
    {
     "name": "stdout",
     "output_type": "stream",
     "text": [
      "Before customisation, average accuracy of Log Reg:  0.941446300269\n",
      "Before customisation, average accuracy of Knn:  0.948266646885\n"
     ]
    }
   ],
   "source": [
    "#Use 10-fold cross validation for each classifier to optimize the performance for one parameter:\n",
    "#10-fold cross-validation, before tuning\n",
    "log_val_error = cross_val_score(log_regr, normalised_X_train, y_train_mnist, scoring=\"accuracy\", cv=10)\n",
    "k_nn_val_error = cross_val_score(k_nn_classifier, normalised_X_train, y_train_mnist, scoring=\"accuracy\", cv=10)\n",
    "print(\"Before customisation, average accuracy of Log Reg: \", log_val_error.mean())\n",
    "print(\"Before customisation, average accuracy of Knn: \", k_nn_val_error.mean())"
   ]
  },
  {
   "cell_type": "code",
   "execution_count": 107,
   "metadata": {},
   "outputs": [],
   "source": [
    "#- Optimize k for k-nn with GridSearchCV\n",
    "k_param = {'n_neighbors': np.arange(1, 20)} # number of k neighbours from 1 to 20\n",
    "knn = KNeighborsClassifier()\n",
    "grid_search_knn = GridSearchCV(knn, param_grid=k_param, cv=10)\n",
    "grid_search_knn.fit(normalised_X_train, y_train_mnist)\n",
    "best_K = grid_search_knn.best_params_['n_neighbors'] # best_params_ -> dictionary type property\n",
    "# use grid_search_knn.cv_results_ to see detailed results"
   ]
  },
  {
   "cell_type": "code",
   "execution_count": 108,
   "metadata": {},
   "outputs": [],
   "source": [
    "#tune lambda with GridSearchCV\n",
    "lambda_param = {'C': [0.1, 0.01, 0.001, 1, 10, 100, 1000]} # regularisation params to be considered\n",
    "log = LogisticRegression()\n",
    "grid_search_log = GridSearchCV(log, param_grid=lambda_param, cv=10)\n",
    "grid_search_log.fit(normalised_X_train, y_train_mnist)\n",
    "best_C = grid_search_log.best_params_['C']"
   ]
  },
  {
   "cell_type": "code",
   "execution_count": 109,
   "metadata": {},
   "outputs": [
    {
     "data": {
      "text/plain": [
       "KNeighborsClassifier(algorithm='auto', leaf_size=30, metric='minkowski',\n",
       "           metric_params=None, n_jobs=1, n_neighbors=1, p=2,\n",
       "           weights='uniform')"
      ]
     },
     "execution_count": 109,
     "metadata": {},
     "output_type": "execute_result"
    }
   ],
   "source": [
    "#Train logistic regression and k-nn using optimized parameters.\n",
    "log_regr_customised = LogisticRegression(C=best_C)\n",
    "knn_customised = KNeighborsClassifier(n_neighbors=best_K)\n",
    "log_regr_customised.fit(normalised_X_train, y_train_mnist)\n",
    "knn_customised.fit(normalised_X_train, y_train_mnist)"
   ]
  },
  {
   "cell_type": "code",
   "execution_count": 110,
   "metadata": {},
   "outputs": [
    {
     "name": "stdout",
     "output_type": "stream",
     "text": [
      "After customisation, average accuracy for Log Reg:  0.942180286678 , standard deviation:  0.0191189588715\n",
      "After customisation, average accuracy for Knn:  0.959534823035 , standard deviation:  0.0271404395113\n"
     ]
    }
   ],
   "source": [
    "#Show performance on the cross-validation set for (1) and (2) for both classifiers: \n",
    "#    * report the average cross validation error rates (alternatively, the average accuracies - it's up to you) \n",
    "#and standard deviation, after tuning\n",
    "log_customised_val_error = cross_val_score(log_regr_customised, normalised_X_train, y_train_mnist, scoring=\"accuracy\",cv=10)\n",
    "knn_customised_val_error = cross_val_score(knn_customised, normalised_X_train, y_train_mnist, scoring=\"accuracy\", cv=10)\n",
    "print(\"After customisation, average accuracy for Log Reg: \", log_customised_val_error.mean(), \", standard deviation: \", np.std(log_customised_val_error))\n",
    "print(\"After customisation, average accuracy for Knn: \", knn_customised_val_error.mean(), \", standard deviation: \", np.std(knn_customised_val_error))"
   ]
  },
  {
   "cell_type": "code",
   "execution_count": 111,
   "metadata": {},
   "outputs": [
    {
     "data": {
      "text/plain": [
       "<matplotlib.text.Text at 0x1f4d5ae1d30>"
      ]
     },
     "execution_count": 111,
     "metadata": {},
     "output_type": "execute_result"
    },
    {
     "data": {
      "image/png": "[encoded data removed]",
      "text/plain": [
       "<matplotlib.figure.Figure at 0x1f4d586a6d8>"
      ]
     },
     "metadata": {},
     "output_type": "display_data"
    }
   ],
   "source": [
    "# plot the average cross valildation errors (or accuracies) for different values of k that you tuned. \n",
    "knn_plot = plt.plot(np.arange(1,20), grid_search_knn.cv_results_['mean_test_score'])\n",
    "plt.xlabel('k neighbours')\n",
    "plt.ylabel('Scores')"
   ]
  },
  {
   "cell_type": "code",
   "execution_count": 112,
   "metadata": {},
   "outputs": [
    {
     "data": {
      "text/plain": [
       "<matplotlib.text.Text at 0x1f4d5c26400>"
      ]
     },
     "execution_count": 112,
     "metadata": {},
     "output_type": "execute_result"
    },
    {
     "data": {
      "image/png": "[encoded data removed]",
      "text/plain": [
       "<matplotlib.figure.Figure at 0x1f4d5c190f0>"
      ]
     },
     "metadata": {},
     "output_type": "display_data"
    }
   ],
   "source": [
    "# plot the average cross valildation errors (or accuracies) for different values of lambdathat you tuned. \n",
    "log_plot = plt.plot(lambda_param['C'], grid_search_log.cv_results_['mean_test_score'])\n",
    "plt.xlabel('Regularisation Parameters')\n",
    "plt.ylabel('Scores')"
   ]
  },
  {
   "cell_type": "code",
   "execution_count": 113,
   "metadata": {},
   "outputs": [
    {
     "name": "stdout",
     "output_type": "stream",
     "text": [
      "Logistic Regression's accuracy:  0.878787878788\n",
      "Report for optimised Logistic Regression: \n",
      "              precision    recall  f1-score   support\n",
      "\n",
      "          0       0.96      0.93      0.94        27\n",
      "          1       0.79      0.84      0.81        31\n",
      "          2       1.00      1.00      1.00        27\n",
      "          3       0.86      0.63      0.73        30\n",
      "          4       0.91      0.91      0.91        33\n",
      "          5       0.91      0.97      0.94        30\n",
      "          6       0.97      0.97      0.97        30\n",
      "          7       0.90      0.87      0.88        30\n",
      "          8       0.68      0.89      0.77        28\n",
      "          9       0.89      0.81      0.85        31\n",
      "\n",
      "avg / total       0.89      0.88      0.88       297\n",
      "\n",
      "Knn's accuracy:  0.929292929293\n",
      "Report for optimised K Nearest Neighbour: \n",
      "              precision    recall  f1-score   support\n",
      "\n",
      "          0       1.00      1.00      1.00        27\n",
      "          1       0.89      1.00      0.94        31\n",
      "          2       1.00      0.89      0.94        27\n",
      "          3       0.93      0.90      0.92        30\n",
      "          4       0.97      0.88      0.92        33\n",
      "          5       0.90      0.93      0.92        30\n",
      "          6       0.88      1.00      0.94        30\n",
      "          7       0.91      1.00      0.95        30\n",
      "          8       1.00      0.82      0.90        28\n",
      "          9       0.87      0.87      0.87        31\n",
      "\n",
      "avg / total       0.93      0.93      0.93       297\n",
      "\n"
     ]
    }
   ],
   "source": [
    "#* Compare performance on the test set for two classifiers:\n",
    "#    * produce the classification report for both classifiers, consisting of precision, recall, f1-score. \n",
    "log_predictions = log_regr_customised.predict(normalised_X_test)\n",
    "knn_predictions = knn_customised.predict(normalised_X_test)\n",
    "log_report = classification_report(y_test_mnist, log_predictions)\n",
    "knn_report = classification_report(y_test_mnist, knn_predictions)\n",
    "print(\"Logistic Regression's accuracy: \", accuracy_score(y_test_mnist, log_predictions))\n",
    "print(\"Report for optimised Logistic Regression: \\n\", log_report)\n",
    "print(\"Knn's accuracy: \", accuracy_score(y_test_mnist, knn_predictions))\n",
    "print(\"Report for optimised K Nearest Neighbour: \\n\", knn_report)"
   ]
  },
  {
   "cell_type": "markdown",
   "metadata": {},
   "source": [
    "###    Explain and analyse Classification Reports\n",
    "In the two classification reports above, what can be seen is the clearly better performance of the K Nearest Neighbour (KNN) classifier on all scoring categories (precision, recall and f1-score), and hence its accuracy score is also significantly higher (0.93 compared to Logistic Regression's (LR) 0.88). It's worth noting that the number of k-nearest-neighbours that was classified as best by the `GridSearchCV` module in the cross-validation phase was 1, this means that there is a clear separation of labels between the instances of the training set `X_train_mnist` (or `normalised_X_train`).\n",
    "\n",
    "In the `precision` score ($tp/P$), while LR performed rather poorly in class 8 (0.68), KNN scored perfectly. The same thing can be seen with the `recall` score ($tp/(tp+fn)$) in class 3, where LR scored 0.63 and KNN scored 0.90."
   ]
  },
  {
   "cell_type": "code",
   "execution_count": 114,
   "metadata": {},
   "outputs": [
    {
     "name": "stdout",
     "output_type": "stream",
     "text": [
      "Confusion matrix for Logistic Regression: \n",
      " [[25  0  0  0  1  0  1  0  0  0]\n",
      " [ 0 26  0  2  0  0  0  0  3  0]\n",
      " [ 0  0 27  0  0  0  0  0  0  0]\n",
      " [ 0  1  0 19  0  3  0  2  5  0]\n",
      " [ 0  0  0  0 30  0  0  0  0  3]\n",
      " [ 0  1  0  0  0 29  0  0  0  0]\n",
      " [ 0  1  0  0  0  0 29  0  0  0]\n",
      " [ 0  0  0  0  1  0  0 26  3  0]\n",
      " [ 0  2  0  0  1  0  0  0 25  0]\n",
      " [ 1  2  0  1  0  0  0  1  1 25]] \n",
      "\n",
      "Confusion matrix for K Nearest Neighbours:\n",
      " [[27  0  0  0  0  0  0  0  0  0]\n",
      " [ 0 31  0  0  0  0  0  0  0  0]\n",
      " [ 0  0 24  0  0  0  3  0  0  0]\n",
      " [ 0  0  0 27  0  1  1  1  0  0]\n",
      " [ 0  0  0  0 29  0  0  1  0  3]\n",
      " [ 0  1  0  0  1 28  0  0  0  0]\n",
      " [ 0  0  0  0  0  0 30  0  0  0]\n",
      " [ 0  0  0  0  0  0  0 30  0  0]\n",
      " [ 0  3  0  1  0  0  0  0 23  1]\n",
      " [ 0  0  0  1  0  2  0  1  0 27]]\n"
     ]
    }
   ],
   "source": [
    "# print confusion matrix for both classifiers and compare whether they missclassify the same  classes. \n",
    "log_cm = confusion_matrix(y_test_mnist, log_predictions)\n",
    "knn_cm = confusion_matrix(y_test_mnist, knn_predictions)\n",
    "print(\"Confusion matrix for Logistic Regression: \\n\", log_cm, \"\\n\")\n",
    "print(\"Confusion matrix for K Nearest Neighbours:\\n\", knn_cm)"
   ]
  },
  {
   "cell_type": "markdown",
   "metadata": {},
   "source": [
    "### Explain and analyse Confusion Matrices\n",
    "The two confusion matrices ($m x n$) above present the performances of two classifiers on the test set (`normalised_X_test`) that contains 10 classes (from 0 to 9). Their diagonals reflect the number of instances that were predicted correctly for each class. While for each entry $E$, $E_{i,j}$ is the number of instances that are supposed to be in class $i$ but were misclassified as class $j$. Looking at these 2 matrices, one can say that both classifiers misclassified class 3, 4, 5, 8 and 9. For example, in class 3, LR only correctly classified 19 instances, while 1 instance was misclassified as class 1, 3 as class 5, 2 as class 7 and 5 as class 8; hence the recall score of 0.63."
   ]
  },
  {
   "cell_type": "markdown",
   "metadata": {
    "collapsed": true
   },
   "source": [
    "### Discuss your results.\n",
    "The implementation of LR and KNN in this notebook indicates the following points:\n",
    "\n",
    " - Using cross validation to tune the parameters, specifically, k and lambda, did produce an improvement in the accuracy score of both classifiers. The best k was found to be 1, while the best regularisation parameter lambda was 10.\n",
    " - The reports and confusion matrices showed a better performance of the KNN classifier in the test set (normalised), with an average accuracy score of 0.93 in all scoring cateogories. Meanwhile, LR observed some low scores in class 3 for `recall` and 8 for `precision`.\n",
    " "
   ]
  },
  {
   "cell_type": "code",
   "execution_count": 115,
   "metadata": {
    "collapsed": true
   },
   "outputs": [],
   "source": [
    "#* BONUS: only continue with this part if you are confident that your implemention is complete \n",
    "#    * tune more parameters of logistic regression\n",
    "#    * add additional classifiers (NN, Naive Bayes, decision tree), \n",
    "#    * analyse additional dataset (ex. Iris dataset)"
   ]
  },
  {
   "cell_type": "code",
   "execution_count": null,
   "metadata": {
    "collapsed": true
   },
   "outputs": [],
   "source": []
  },
  {
   "cell_type": "markdown",
   "metadata": {},
   "source": [
    "## Results and analysis of the experiment"
   ]
  },
  {
   "cell_type": "code",
   "execution_count": 14,
   "metadata": {
    "collapsed": true
   },
   "outputs": [],
   "source": [
    "# discuss the results"
   ]
  }
 ],
 "metadata": {
  "kernelspec": {
   "display_name": "Python [default]",
   "language": "python",
   "name": "python3"
  },
  "language_info": {
   "codemirror_mode": {
    "name": "ipython",
    "version": 3
   },
   "file_extension": ".py",
   "mimetype": "text/x-python",
   "name": "python",
   "nbconvert_exporter": "python",
   "pygments_lexer": "ipython3",
   "version": "3.6.1"
  }
 },
 "nbformat": 4,
 "nbformat_minor": 2
}
