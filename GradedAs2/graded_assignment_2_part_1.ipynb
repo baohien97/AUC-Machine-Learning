{
 "cells": [
  {
   "cell_type": "markdown",
   "metadata": {},
   "source": [
    "# Graded Lab Assignment 2: Evaluate classifiers (10 points)\n",
    " \n",
    "In this assignment you will optimize and compare the perfomance of a parametric (logistic regression) and non-parametric (k-nearest neighbours) classifier on the MNIST dataset.\n",
    "\n",
    "Publish your notebook (ipynb file) to your Machine Learning repository on Github ON TIME. We will check the last commit on the day of the deadline.  \n",
    "\n",
    "### Deadline Friday, November 17, 23:59.\n",
    "\n",
    "This notebook consists of three parts: design, implementation, results & analysis. \n",
    "We provide you with the design of the experiment and you have to implement it and analyse the results.\n",
    "\n",
    "### Criteria used for grading\n",
    "* Explain and analyse all results.\n",
    "* Make your notebook easy to read. When you are finished take your time to review it!\n",
    "* You do not want to repeat the same chunks of code multiply times. If your need to do so, write a function. \n",
    "* The implementation part of this assignment needs careful design before you start coding. You could start by writing pseudocode.\n",
    "* In this exercise the insights are important. Do not hide them somewhere in the comments in the implementation, but put them in the Analysis part\n",
    "* Take care that all the figures and tables are well labeled and numbered so that you can easily refer to them.\n",
    "* A plot should have a title and axes labels.\n",
    "* You may find that not everything is 100% specified in this assignment. That is correct! Like in real life you probably have to make some choices. Motivate your choices.\n"
   ]
  },
  {
   "cell_type": "markdown",
   "metadata": {},
   "source": [
    "### Grading points distribution\n",
    "\n",
    "* Implementation 5 points\n",
    "* Results and analysis 5 points"
   ]
  },
  {
   "cell_type": "markdown",
   "metadata": {},
   "source": [
    "## Design of the experiment"
   ]
  },
  {
   "cell_type": "markdown",
   "metadata": {},
   "source": [
    "You do not have to keep the order of this design and are allowed to alter it if you are confident.\n",
    "* Import all necessary modules. Try to use as much of the available functions as possible. \n",
    "* Use the provided train and test set of MNIST dataset.\n",
    "* Pre-process data eg. normalize/standardize, reformat, etc.           \n",
    "  Do whatever you think is necessary and motivate your choices.\n",
    "* (1) Train logistic regression and k-nn using default settings.\n",
    "* Use 10-fold cross validation for each classifier to optimize the performance for one parameter: \n",
    "    * consult the documentation on how cross validation works in sklearn (important functions:             cross_val_score(), GridSearchCV()).\n",
    "    * Optimize k for k-nn,\n",
    "    * for logistic regression focus on the regularization parameter,\n",
    "* (2) Train logistic regression and k-nn using optimized parameters.\n",
    "* Show performance on the cross-validation set for (1) and (2) for both classifiers: \n",
    "    * report the average cross validation error rates (alternatively, the average accuracies - it's up to you) and standard deviation,\n",
    "    * plot the average cross valildation errors (or accuracies) for different values of the parameter that you tuned. \n",
    "* Compare performance on the test set for two classifiers:\n",
    "    * produce the classification report for both classifiers, consisting of precision, recall, f1-score. Explain and analyse the results.\n",
    "    * print confusion matrix for both classifiers and compare whether they missclassify the same  classes. Explain and analyse the results.\n",
    "* Discuss your results.\n",
    "* BONUS: only continue with this part if you are confident that your implemention is complete \n",
    "    * tune more parameters of logistic regression\n",
    "    * add additional classifiers (NN, Naive Bayes, decision tree), \n",
    "    * analyse additional dataset (ex. Iris dataset)"
   ]
  },
  {
   "cell_type": "markdown",
   "metadata": {},
   "source": [
    "## Implementation of the experiment"
   ]
  },
  {
   "cell_type": "code",
   "execution_count": 3,
   "metadata": {},
   "outputs": [
    {
     "name": "stdout",
     "output_type": "stream",
     "text": [
      "Populating the interactive namespace from numpy and matplotlib\n"
     ]
    }
   ],
   "source": [
    "%pylab inline"
   ]
  },
  {
   "cell_type": "code",
   "execution_count": 39,
   "metadata": {},
   "outputs": [],
   "source": [
    "from sklearn.datasets import load_digits\n",
    "import numpy as np\n",
    "from sklearn import datasets # to load the dataset\n",
    "from sklearn.model_selection import train_test_split #to split in train and test set\n",
    "from sklearn.model_selection import cross_val_score, GridSearchCV #BONUS\n",
    "from sklearn.metrics import classification_report, accuracy_score # for reporting\n",
    "from scipy.spatial import distance #to calculate the Euclidean distance\n",
    "from collections import Counter #to count unique occurances of items in array, for majority voting\n",
    "from sklearn.preprocessing import StandardScaler # to normalize data (NN is very sensitive to this!)\n",
    "from sklearn.neighbors import KNeighborsClassifier # k nearest neighbour classifier\n",
    "from sklearn.neural_network import MLPClassifier # neural network classifier\n",
    "from sklearn.linear_model import LogisticRegression #logistic regression classifier\n",
    "\n",
    "# load mnist dataset and split in train and test set.\n",
    "digits = datasets.load_digits()\n",
    "X_train_mnist = np.reshape(digits.images[:1500],(1500,64))\n",
    "X_test_mnist = np.reshape(digits.images[1500:],(297,64))\n",
    "y_train_mnist = digits.target[:1500]\n",
    "y_test_mnist = digits.target[1500:]\n",
    "\n",
    "# your implementation here\n",
    "# DRAFT\n",
    "\n",
    "#preprocess\n",
    "scaler = StandardScaler()\n",
    "scaler.fit(X_train_mnist)\n",
    "scaler.fit(X_test_mnist)\n",
    "\n",
    "scaler.transform(X_train_mnist)\n",
    "scaler.transform(X_test_mnist)\n",
    "\n",
    "\n",
    "#train using default params\n",
    "log_regr = LogisticRegression()\n",
    "k_nn_classifier = KNeighborsClassifier()\n",
    "\n",
    "log_regr.fit(X_train_mnist, y_train_mnist)\n",
    "k_nn_classifier.fit(X_train_mnist, y_train_mnist)\n",
    "\n",
    "#10-fold cross-validation\n",
    "log_val_error = cross_val_score(log_regr, X_train_mnist, y_train_mnist, scoring=\"accuracy\", cv=10)\n",
    "k_nn_val_error = cross_val_score(k_nn_classifier, X_train_mnist, y_train_mnist, scoring=\"accuracy\", cv=10)\n",
    "\n",
    "#tune k\n",
    "lst_of_k = np.arange(1, 50)\n",
    "score_list_k = []\n",
    "for k in lst_of_k:\n",
    "    knn = KNeighborsClassifier(n_neighbors=k)\n",
    "    scores = cross_val_score(knn, X_train_mnist, y_train_mnist, scoring=\"accuracy\", cv=10)\n",
    "    score_list_k.append((scores.mean(), k))\n",
    "sorted_list_k = sorted(score_list_k)\n",
    "best_k = sorted_list_k[-1][1]\n",
    "\n",
    "#tune lambda with GridSearchCV\n",
    "lambda_param = {'C': [1,10]}\n",
    "lst_of_c = np.arange(1, 10)\n",
    "score_list_c = []\n",
    "for c in lst_of_c:\n",
    "    log = LogisticRegression(C=c)\n",
    "    grid_search = GridSearchCV(log, lambda_param, cv=10)\n",
    "    grid_search.fit(X_train_mnist, y_train_mnist)\n",
    "    score = grid_search.score(X_train_mnist, y_train_mnist)\n",
    "    score_list_c.append((score, c))\n",
    "sorted_list_c = sorted(score_list_c)\n",
    "best_c = sorted_list_c[-1][1]\n",
    "\n",
    "#train using customised params\n",
    "log_regr_customised = LogisticRegression(C=best_c)\n",
    "knn_customised = KNeighborsClassifier(n_neighbors=best_k)\n",
    "\n",
    "#cross val average accuracies and sd with different parameters\n",
    "\n",
    "#plot use plt.plot\n",
    "\n",
    "#show classification report\n"
   ]
  },
  {
   "cell_type": "code",
   "execution_count": 37,
   "metadata": {},
   "outputs": [
    {
     "data": {
      "text/plain": [
       "[(0.93350257174067397, 49),\n",
       " (0.93420023669404295, 41),\n",
       " (0.93420446414480873, 42),\n",
       " (0.93483614215319177, 44),\n",
       " (0.93484491408301618, 48),\n",
       " (0.9348539230920252, 46),\n",
       " (0.93486212180246642, 43),\n",
       " (0.93487990274129995, 45),\n",
       " (0.93551605502261359, 47),\n",
       " (0.93754729038850004, 39),\n",
       " (0.93821395705516686, 40),\n",
       " (0.93822296606417588, 38),\n",
       " (0.9382317379940005, 37),\n",
       " (0.93824074700300941, 35),\n",
       " (0.93890287893359781, 36),\n",
       " (0.94021470689058706, 34),\n",
       " (0.9421889038573491, 33),\n",
       " (0.94360147033842345, 32),\n",
       " (0.94422389251563266, 31),\n",
       " (0.94489503345523007, 29),\n",
       " (0.94555740246500286, 30),\n",
       " (0.95025128251771329, 28),\n",
       " (0.95160311777041395, 27),\n",
       " (0.95229098252811217, 25),\n",
       " (0.95230023835928601, 26),\n",
       " (0.95293614381843494, 23),\n",
       " (0.95296212346770959, 22),\n",
       " (0.95297591403496162, 24),\n",
       " (0.95364705497455904, 21),\n",
       " (0.95501691798825772, 19),\n",
       " (0.95566979408767239, 20),\n",
       " (0.95568805892785491, 18),\n",
       " (0.95629792427458149, 15),\n",
       " (0.95630618344817042, 13),\n",
       " (0.95635472559452173, 14),\n",
       " (0.95635472559452173, 17),\n",
       " (0.95635919986745233, 16),\n",
       " (0.95699435549118106, 12),\n",
       " (0.96227218170449125, 11),\n",
       " (0.96361377421141337, 9),\n",
       " (0.96428485468786307, 10),\n",
       " (0.96491610925804461, 8),\n",
       " (0.96756628918579446, 7),\n",
       " (0.96825618123782076, 4),\n",
       " (0.96888755196089138, 6),\n",
       " (0.96956806845670296, 5),\n",
       " (0.97355445567513055, 2),\n",
       " (0.97484463324800008, 3),\n",
       " (0.97822625833336829, 1)]"
      ]
     },
     "execution_count": 37,
     "metadata": {},
     "output_type": "execute_result"
    }
   ],
   "source": [
    "lst_of_k = np.arange(1, 50)\n",
    "score_list_k = []\n",
    "for k in lst_of_k:\n",
    "    knn = KNeighborsClassifier(n_neighbors=k)\n",
    "    scores = cross_val_score(knn, X_train_mnist, y_train_mnist, scoring=\"accuracy\", cv=10)\n",
    "    score_list_k.append((scores.mean(), k))\n",
    "sorted_list_k = sorted(score_list_k)\n",
    "sorted_list_k"
   ]
  },
  {
   "cell_type": "markdown",
   "metadata": {},
   "source": [
    "## Results and analysis of the experiment"
   ]
  },
  {
   "cell_type": "code",
   "execution_count": null,
   "metadata": {
    "collapsed": true
   },
   "outputs": [],
   "source": [
    "# discuss the results"
   ]
  }
 ],
 "metadata": {
  "kernelspec": {
   "display_name": "Python [default]",
   "language": "python",
   "name": "python3"
  },
  "language_info": {
   "codemirror_mode": {
    "name": "ipython",
    "version": 3
   },
   "file_extension": ".py",
   "mimetype": "text/x-python",
   "name": "python",
   "nbconvert_exporter": "python",
   "pygments_lexer": "ipython3",
   "version": "3.6.1"
  }
 },
 "nbformat": 4,
 "nbformat_minor": 2
}
