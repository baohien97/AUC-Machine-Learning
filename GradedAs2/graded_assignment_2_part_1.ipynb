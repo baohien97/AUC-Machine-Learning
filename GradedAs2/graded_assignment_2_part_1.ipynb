{
 "cells": [
  {
   "cell_type": "markdown",
   "metadata": {},
   "source": [
    "# Graded Lab Assignment 2: Evaluate classifiers (10 points)\n",
    " \n",
    "In this assignment you will optimize and compare the perfomance of a parametric (logistic regression) and non-parametric (k-nearest neighbours) classifier on the MNIST dataset.\n",
    "\n",
    "Publish your notebook (ipynb file) to your Machine Learning repository on Github ON TIME. We will check the last commit on the day of the deadline.  \n",
    "\n",
    "### Deadline Friday, November 17, 23:59.\n",
    "\n",
    "This notebook consists of three parts: design, implementation, results & analysis. \n",
    "We provide you with the design of the experiment and you have to implement it and analyse the results.\n",
    "\n",
    "### Criteria used for grading\n",
    "* Explain and analyse all results.\n",
    "* Make your notebook easy to read. When you are finished take your time to review it!\n",
    "* You do not want to repeat the same chunks of code multiply times. If your need to do so, write a function. \n",
    "* The implementation part of this assignment needs careful design before you start coding. You could start by writing pseudocode.\n",
    "* In this exercise the insights are important. Do not hide them somewhere in the comments in the implementation, but put them in the Analysis part\n",
    "* Take care that all the figures and tables are well labeled and numbered so that you can easily refer to them.\n",
    "* A plot should have a title and axes labels.\n",
    "* You may find that not everything is 100% specified in this assignment. That is correct! Like in real life you probably have to make some choices. Motivate your choices.\n"
   ]
  },
  {
   "cell_type": "markdown",
   "metadata": {},
   "source": [
    "### Grading points distribution\n",
    "\n",
    "* Implementation 5 points\n",
    "* Results and analysis 5 points"
   ]
  },
  {
   "cell_type": "markdown",
   "metadata": {},
   "source": [
    "## Design of the experiment"
   ]
  },
  {
   "cell_type": "markdown",
   "metadata": {},
   "source": [
    "You do not have to keep the order of this design and are allowed to alter it if you are confident.\n",
    "* Import all necessary modules. Try to use as much of the available functions as possible. \n",
    "* Use the provided train and test set of MNIST dataset.\n",
    "* Pre-process data eg. normalize/standardize, reformat, etc.           \n",
    "  Do whatever you think is necessary and motivate your choices.\n",
    "* (1) Train logistic regression and k-nn using default settings.\n",
    "* Use 10-fold cross validation for each classifier to optimize the performance for one parameter: \n",
    "    * consult the documentation on how cross validation works in sklearn (important functions:             cross_val_score(), GridSearchCV()).\n",
    "    * Optimize k for k-nn,\n",
    "    * for logistic regression focus on the regularization parameter,\n",
    "* (2) Train logistic regression and k-nn using optimized parameters.\n",
    "* Show performance on the cross-validation set for (1) and (2) for both classifiers: \n",
    "    * report the average cross validation error rates (alternatively, the average accuracies - it's up to you) and standard deviation,\n",
    "    * plot the average cross valildation errors (or accuracies) for different values of the parameter that you tuned. \n",
    "* Compare performance on the test set for two classifiers:\n",
    "    * produce the classification report for both classifiers, consisting of precision, recall, f1-score. Explain and analyse the results.\n",
    "    * print confusion matrix for both classifiers and compare whether they missclassify the same  classes. Explain and analyse the results.\n",
    "* Discuss your results.\n",
    "* BONUS: only continue with this part if you are confident that your implemention is complete \n",
    "    * tune more parameters of logistic regression\n",
    "    * add additional classifiers (NN, Naive Bayes, decision tree), \n",
    "    * analyse additional dataset (ex. Iris dataset)"
   ]
  },
  {
   "cell_type": "markdown",
   "metadata": {},
   "source": [
    "## Implementation of the experiment"
   ]
  },
  {
   "cell_type": "markdown",
   "metadata": {},
   "source": [
    "**Name**: Hien Le - `hien.le@student.auc.nl`"
   ]
  },
  {
   "cell_type": "code",
   "execution_count": 1,
   "metadata": {},
   "outputs": [
    {
     "name": "stdout",
     "output_type": "stream",
     "text": [
      "Populating the interactive namespace from numpy and matplotlib\n"
     ]
    }
   ],
   "source": [
    "%pylab inline"
   ]
  },
  {
   "cell_type": "code",
   "execution_count": 59,
   "metadata": {
    "collapsed": true
   },
   "outputs": [],
   "source": [
    "# load all libraries and modules\n",
    "from sklearn.datasets import load_digits\n",
    "import numpy as np\n",
    "from sklearn import datasets # to load the dataset\n",
    "from sklearn.model_selection import train_test_split #to split in train and test set\n",
    "from sklearn.model_selection import cross_val_score, GridSearchCV #BONUS\n",
    "from sklearn.metrics import classification_report, accuracy_score, confusion_matrix # for reporting\n",
    "from sklearn.preprocessing import StandardScaler # to normalize data (NN is very sensitive to this!)\n",
    "from sklearn.neighbors import KNeighborsClassifier # k nearest neighbour classifier\n",
    "from sklearn.linear_model import LogisticRegression #logistic regression classifier\n",
    "from sklearn.naive_bayes import GaussianNB # for BONUS\n",
    "from sklearn.tree import DecisionTreeClassifier # for BONUS\n",
    "from sklearn.neural_network import MLPClassifier # for BONUS"
   ]
  },
  {
   "cell_type": "code",
   "execution_count": 39,
   "metadata": {
    "collapsed": true
   },
   "outputs": [],
   "source": [
    "# load mnist dataset and split in train and test set.\n",
    "digits = datasets.load_digits()\n",
    "X_train_mnist = np.reshape(digits.images[:1500],(1500,64))\n",
    "X_test_mnist = np.reshape(digits.images[1500:],(297,64))\n",
    "y_train_mnist = digits.target[:1500]\n",
    "y_test_mnist = digits.target[1500:]"
   ]
  },
  {
   "cell_type": "code",
   "execution_count": 4,
   "metadata": {
    "collapsed": true
   },
   "outputs": [],
   "source": [
    "#preprocess data (normalisation)\n",
    "scaler = StandardScaler()\n",
    "scaler.fit(X_train_mnist)\n",
    "scaler.fit(X_test_mnist)\n",
    "normalised_X_train = scaler.transform(X_train_mnist) # output scaled data in new variables\n",
    "normalised_X_test = scaler.transform(X_test_mnist)"
   ]
  },
  {
   "cell_type": "code",
   "execution_count": 23,
   "metadata": {},
   "outputs": [
    {
     "data": {
      "text/plain": [
       "KNeighborsClassifier(algorithm='auto', leaf_size=30, metric='minkowski',\n",
       "           metric_params=None, n_jobs=1, n_neighbors=5, p=2,\n",
       "           weights='uniform')"
      ]
     },
     "execution_count": 23,
     "metadata": {},
     "output_type": "execute_result"
    }
   ],
   "source": [
    "#Train logistic regression and k-nn using default settings.\n",
    "log_regr = LogisticRegression()\n",
    "k_nn_classifier = KNeighborsClassifier()\n",
    "log_regr.fit(normalised_X_train, y_train_mnist)\n",
    "k_nn_classifier.fit(normalised_X_train, y_train_mnist)"
   ]
  },
  {
   "cell_type": "code",
   "execution_count": 60,
   "metadata": {
    "collapsed": true
   },
   "outputs": [],
   "source": [
    "# function to report accuracy on cross validation sets\n",
    "def report_accuracy(moment, clf_name, clf, x_train, y_train):\n",
    "    cv_error = cross_val_score(clf, x_train, y_train, scoring=\"accuracy\", cv=10)\n",
    "    print(moment + \" customisation, average accuracy of \" + clf_name + \" : \", cv_error.mean(), \" standard deviation: \", np.std(cv_error))"
   ]
  },
  {
   "cell_type": "code",
   "execution_count": 66,
   "metadata": {},
   "outputs": [
    {
     "name": "stdout",
     "output_type": "stream",
     "text": [
      "Before customisation, average accuracy of LR :  0.941446300269  standard deviation:  0.0205180253743\n",
      "Before customisation, average accuracy of KNN :  0.948266646885  standard deviation:  0.0303457070823\n"
     ]
    }
   ],
   "source": [
    "#10-fold cross-validation, before tuning\n",
    "report_accuracy(\"Before\", \"LR\", log_regr, normalised_X_train, y_train_mnist)\n",
    "report_accuracy(\"Before\", \"KNN\", k_nn_classifier, normalised_X_train, y_train_mnist)"
   ]
  },
  {
   "cell_type": "code",
   "execution_count": 73,
   "metadata": {
    "collapsed": true
   },
   "outputs": [],
   "source": [
    "# function to tune k and lambda\n",
    "def tune_single_param(clf, param_name, param_grid, x_train, y_train):\n",
    "    grid_search = GridSearchCV(clf, param_grid=param_grid, cv=10)\n",
    "    grid_search.fit(x_train, y_train)\n",
    "    best_param = list(grid_search.best_params_.values())[0]\n",
    "    plt.plot(param_grid[param_name], grid_search.cv_results_['mean_test_score']) # plot accuracy scores against parameters\n",
    "    plt.title(\"Performances of \" + param_name)\n",
    "    plt.xlabel(param_name)\n",
    "    plt.ylabel(\"Scores\")\n",
    "    return best_param"
   ]
  },
  {
   "cell_type": "code",
   "execution_count": 74,
   "metadata": {},
   "outputs": [
    {
     "data": {
      "image/png": "[encoded data removed]",
      "text/plain": [
       "<matplotlib.figure.Figure at 0x1ea58ac4da0>"
      ]
     },
     "metadata": {},
     "output_type": "display_data"
    }
   ],
   "source": [
    "# Optimize k for k-nn with GridSearchCV\n",
    "k_param = {'n_neighbors': np.arange(1, 10)} # number of k neighbours from 1 to 10\n",
    "best_K = tune_single_param(KNeighborsClassifier(), 'n_neighbors', k_param, normalised_X_train, y_train_mnist)\n",
    "#print(best_K)"
   ]
  },
  {
   "cell_type": "code",
   "execution_count": 75,
   "metadata": {},
   "outputs": [
    {
     "data": {
      "image/png": "[encoded data removed]",
      "text/plain": [
       "<matplotlib.figure.Figure at 0x1ea58992f60>"
      ]
     },
     "metadata": {},
     "output_type": "display_data"
    }
   ],
   "source": [
    "#tune lambda with GridSearchCV\n",
    "lambda_param = {'C': [0.1, 0.01, 0.001, 1, 10, 100, 1000]} # regularisation params to be considered\n",
    "best_C = tune_single_param(LogisticRegression(), 'C', lambda_param, normalised_X_train, y_train_mnist)\n",
    "#print(best_C)"
   ]
  },
  {
   "cell_type": "code",
   "execution_count": 29,
   "metadata": {},
   "outputs": [
    {
     "data": {
      "text/plain": [
       "KNeighborsClassifier(algorithm='auto', leaf_size=30, metric='minkowski',\n",
       "           metric_params=None, n_jobs=1, n_neighbors=1, p=2,\n",
       "           weights='uniform')"
      ]
     },
     "execution_count": 29,
     "metadata": {},
     "output_type": "execute_result"
    }
   ],
   "source": [
    "# Train logistic regression and k-nn using optimized parameters.\n",
    "log_regr_customised = LogisticRegression(C=best_C)\n",
    "knn_customised = KNeighborsClassifier(n_neighbors=best_K)\n",
    "log_regr_customised.fit(normalised_X_train, y_train_mnist)\n",
    "knn_customised.fit(normalised_X_train, y_train_mnist)"
   ]
  },
  {
   "cell_type": "code",
   "execution_count": 30,
   "metadata": {},
   "outputs": [
    {
     "name": "stdout",
     "output_type": "stream",
     "text": [
      "After customisation, average accuracy of LR :  0.942180286678  standard deviation:  0.0191189588715\n",
      "After customisation, average accuracy of KNN :  0.959534823035  standard deviation:  0.0271404395113\n"
     ]
    }
   ],
   "source": [
    "#Show performance on the cross-validation set for (1) and (2) for both classifiers: \n",
    "#    * report the average cross validation error rates (alternatively, the average accuracies - it's up to you) \n",
    "#and standard deviation, after tuning\n",
    "report_accuracy(\"After\", \"LR\", log_regr_customised, normalised_X_train, y_train_mnist)\n",
    "report_accuracy(\"After\", \"KNN\", knn_customised, normalised_X_train, y_train_mnist)"
   ]
  },
  {
   "cell_type": "code",
   "execution_count": 52,
   "metadata": {},
   "outputs": [
    {
     "name": "stdout",
     "output_type": "stream",
     "text": [
      "Logistic Regression's accuracy:  0.878787878788\n",
      "Report for Logistic Regression :\n",
      "              precision    recall  f1-score   support\n",
      "\n",
      "          0       0.96      0.93      0.94        27\n",
      "          1       0.79      0.84      0.81        31\n",
      "          2       1.00      1.00      1.00        27\n",
      "          3       0.86      0.63      0.73        30\n",
      "          4       0.91      0.91      0.91        33\n",
      "          5       0.91      0.97      0.94        30\n",
      "          6       0.97      0.97      0.97        30\n",
      "          7       0.90      0.87      0.88        30\n",
      "          8       0.68      0.89      0.77        28\n",
      "          9       0.89      0.81      0.85        31\n",
      "\n",
      "avg / total       0.89      0.88      0.88       297\n",
      "\n",
      "KNN's accuracy:  0.929292929293\n",
      "Report for KNN :\n",
      "              precision    recall  f1-score   support\n",
      "\n",
      "          0       1.00      1.00      1.00        27\n",
      "          1       0.89      1.00      0.94        31\n",
      "          2       1.00      0.89      0.94        27\n",
      "          3       0.93      0.90      0.92        30\n",
      "          4       0.97      0.88      0.92        33\n",
      "          5       0.90      0.93      0.92        30\n",
      "          6       0.88      1.00      0.94        30\n",
      "          7       0.91      1.00      0.95        30\n",
      "          8       1.00      0.82      0.90        28\n",
      "          9       0.87      0.87      0.87        31\n",
      "\n",
      "avg / total       0.93      0.93      0.93       297\n",
      "\n"
     ]
    }
   ],
   "source": [
    "#* Compare performance on the test set for two classifiers:\n",
    "#    * produce the classification report for both classifiers, consisting of precision, recall, f1-score. \n",
    "def produce_report(clf_name, clf, x_train, y_train, x_test, y_test):\n",
    "    preds = clf.fit(x_train, y_train).predict(x_test)\n",
    "    print(clf_name + \"'s accuracy: \", accuracy_score(y_test, preds))\n",
    "    print(\"Report for \" + clf_name + \" :\\n\", classification_report(y_test, preds))\n",
    "    return preds\n",
    "log_predictions = produce_report(\"Logistic Regression\", log_regr_customised, normalised_X_train, y_train_mnist, normalised_X_test, y_test_mnist)\n",
    "knn_predictions = produce_report(\"KNN\", knn_customised, normalised_X_train, y_train_mnist, normalised_X_test, y_test_mnist)"
   ]
  },
  {
   "cell_type": "markdown",
   "metadata": {},
   "source": [
    "###    Explain and analyse Classification Reports\n",
    "In the two classification reports above, what can be seen is the clearly better performance of the K Nearest Neighbour (KNN) classifier on all scoring categories (precision, recall and f1-score), and hence its accuracy score is also significantly higher (0.93 compared to Logistic Regression's (LR) 0.88). It's worth noting that the number of k-nearest-neighbours that was classified as best by the `GridSearchCV` module in the cross-validation phase was 1, this means that there is a clear separation of labels between the instances of the training set `X_train_mnist` (or `normalised_X_train`).\n",
    "\n",
    "In the `precision` score ($tp/P$), while LR performed rather poorly in class 8 (0.68), KNN scored perfectly. The same thing can be seen with the `recall` score ($tp/(tp+fn)$) in class 3, where LR scored 0.63 and KNN scored 0.90."
   ]
  },
  {
   "cell_type": "code",
   "execution_count": 32,
   "metadata": {},
   "outputs": [
    {
     "name": "stdout",
     "output_type": "stream",
     "text": [
      "Confusion matrix for Logistic Regression: \n",
      " [[25  0  0  0  1  0  1  0  0  0]\n",
      " [ 0 26  0  2  0  0  0  0  3  0]\n",
      " [ 0  0 27  0  0  0  0  0  0  0]\n",
      " [ 0  1  0 19  0  3  0  2  5  0]\n",
      " [ 0  0  0  0 30  0  0  0  0  3]\n",
      " [ 0  1  0  0  0 29  0  0  0  0]\n",
      " [ 0  1  0  0  0  0 29  0  0  0]\n",
      " [ 0  0  0  0  1  0  0 26  3  0]\n",
      " [ 0  2  0  0  1  0  0  0 25  0]\n",
      " [ 1  2  0  1  0  0  0  1  1 25]] \n",
      "\n",
      "Confusion matrix for K Nearest Neighbours:\n",
      " [[27  0  0  0  0  0  0  0  0  0]\n",
      " [ 0 31  0  0  0  0  0  0  0  0]\n",
      " [ 0  0 24  0  0  0  3  0  0  0]\n",
      " [ 0  0  0 27  0  1  1  1  0  0]\n",
      " [ 0  0  0  0 29  0  0  1  0  3]\n",
      " [ 0  1  0  0  1 28  0  0  0  0]\n",
      " [ 0  0  0  0  0  0 30  0  0  0]\n",
      " [ 0  0  0  0  0  0  0 30  0  0]\n",
      " [ 0  3  0  1  0  0  0  0 23  1]\n",
      " [ 0  0  0  1  0  2  0  1  0 27]]\n"
     ]
    }
   ],
   "source": [
    "# print confusion matrix for both classifiers and compare whether they missclassify the same  classes. \n",
    "log_cm = confusion_matrix(y_test_mnist, log_predictions)\n",
    "knn_cm = confusion_matrix(y_test_mnist, knn_predictions)\n",
    "print(\"Confusion matrix for Logistic Regression: \\n\", log_cm, \"\\n\")\n",
    "print(\"Confusion matrix for K Nearest Neighbours:\\n\", knn_cm)"
   ]
  },
  {
   "cell_type": "markdown",
   "metadata": {},
   "source": [
    "### Explain and analyse Confusion Matrices\n",
    "The two confusion matrices ($m$ x $n$) above present the performances of two classifiers on the test set (`normalised_X_test`) that contains 10 classes (from 0 to 9). Their diagonals reflect the number of instances that were predicted correctly for each class. While for each entry $E$ that is not on the diagonal, $E_{i,j}$ is the number of instances that are supposed to be in class $i$ but were misclassified as class $j$. Looking at these 2 matrices, one can see that both classifiers misclassified class 3, 4, 5, 8 and 9. For example, in class 3, LR only correctly classified 19 instances, and 1 instance was misclassified as class 1, 3 as class 5, 2 as class 7 and 5 as class 8; hence it produced a recall score of 0.63."
   ]
  },
  {
   "cell_type": "markdown",
   "metadata": {
    "collapsed": true
   },
   "source": [
    "### Discuss your results\n",
    "The implementation of LR and KNN in this notebook indicates the following points:\n",
    "\n",
    " - Using cross validation to tune the parameters, specifically, k and lambda, did produce an improvement in the accuracy score of both classifiers. The best k was found to be 1, while the best regularisation parameter lambda was 10. The `GridSearchCV` was of great help in finding these, due to its iterating over each value of the parameters and calculating the cross validation score of each. In the Bonus this module is also further exploited, however due to the heaviness of this notebook it `GridSearchCV` extremely long to produce output via its property `best_params_` when dealing with more than 1 parameter type, and hence I had to use it separately.\n",
    " - The reports and confusion matrices showed a better performance of the KNN classifier in the test set (normalised), with an average accuracy score of 0.93 in all scoring cateogories. Meanwhile, LR observed some low scores in class 3 for `recall` and 8 for `precision`. This indicates the efficiency of the KNN classifier in dealing with this particular dataset. "
   ]
  },
  {
   "cell_type": "markdown",
   "metadata": {},
   "source": [
    "### BONUS"
   ]
  },
  {
   "cell_type": "code",
   "execution_count": 5,
   "metadata": {
    "collapsed": true
   },
   "outputs": [],
   "source": [
    "from sklearn import datasets"
   ]
  },
  {
   "cell_type": "code",
   "execution_count": 61,
   "metadata": {},
   "outputs": [
    {
     "data": {
      "text/plain": [
       "(38, 4)"
      ]
     },
     "execution_count": 61,
     "metadata": {},
     "output_type": "execute_result"
    }
   ],
   "source": [
    "# load iris dataset, with 4 features, tried doing it with 2 features and the scores were really low for all classifiers\n",
    "iris = datasets.load_iris()\n",
    "features = iris.data[:, : 4] \n",
    "labels = iris.target\n",
    "scaler = StandardScaler()\n",
    "scaler.fit(features)\n",
    "features = scaler.transform(features)\n",
    "X_train_iris, X_test_iris, y_train_iris, y_test_iris = train_test_split(features, labels)\n",
    "X_train_iris.shape\n",
    "X_test_iris.shape"
   ]
  },
  {
   "cell_type": "markdown",
   "metadata": {},
   "source": [
    "The two cells below try to tune the two parameters `max_iter` and `penalty` of the `LogisticRegression` classifier. The two parameters could have been put into one single dictionary but making `GridSearchCV` tune more than 1 parameter at the same time\n",
    "made my notebook extremely heavy and nearly crashed my whole system. So yes there's a redundancy of code but the notebook doesn't allow me to do otherwise :("
   ]
  },
  {
   "cell_type": "code",
   "execution_count": 7,
   "metadata": {},
   "outputs": [
    {
     "data": {
      "text/plain": [
       "{'max_iter': 100}"
      ]
     },
     "execution_count": 7,
     "metadata": {},
     "output_type": "execute_result"
    }
   ],
   "source": [
    "# tune more parameters of logistic regression\n",
    "iter_grid = {'max_iter': [100, 200, 300, 400, 500]}\n",
    "gs = GridSearchCV(LogisticRegression(C=10), param_grid=iter_grid, cv=10)\n",
    "gs.fit(normalised_X_train, y_train_mnist)\n",
    "gs.best_params_"
   ]
  },
  {
   "cell_type": "code",
   "execution_count": 8,
   "metadata": {},
   "outputs": [
    {
     "data": {
      "text/plain": [
       "{'penalty': 'l2'}"
      ]
     },
     "execution_count": 8,
     "metadata": {},
     "output_type": "execute_result"
    }
   ],
   "source": [
    "penalty_grid = {'penalty': ['l1', 'l2']}\n",
    "gs = GridSearchCV(LogisticRegression(C=10), param_grid=penalty_grid, cv=10)\n",
    "gs.fit(normalised_X_train, y_train_mnist)\n",
    "gs.best_params_"
   ]
  },
  {
   "cell_type": "code",
   "execution_count": 53,
   "metadata": {},
   "outputs": [
    {
     "name": "stdout",
     "output_type": "stream",
     "text": [
      "Bayes for mnist's accuracy:  0.794612794613\n",
      "Report for Bayes for mnist :\n",
      "              precision    recall  f1-score   support\n",
      "\n",
      "          0       0.96      0.96      0.96        27\n",
      "          1       0.68      0.87      0.76        31\n",
      "          2       0.95      0.70      0.81        27\n",
      "          3       1.00      0.47      0.64        30\n",
      "          4       0.96      0.82      0.89        33\n",
      "          5       0.78      0.97      0.87        30\n",
      "          6       0.97      0.97      0.97        30\n",
      "          7       0.60      0.87      0.71        30\n",
      "          8       0.53      0.68      0.59        28\n",
      "          9       0.91      0.65      0.75        31\n",
      "\n",
      "avg / total       0.84      0.79      0.79       297\n",
      "\n",
      "Bayes for iris's accuracy:  0.973684210526\n",
      "Report for Bayes for iris :\n",
      "              precision    recall  f1-score   support\n",
      "\n",
      "          0       1.00      1.00      1.00        13\n",
      "          1       1.00      0.92      0.96        12\n",
      "          2       0.93      1.00      0.96        13\n",
      "\n",
      "avg / total       0.98      0.97      0.97        38\n",
      "\n"
     ]
    }
   ],
   "source": [
    "# NB\n",
    "bayes_classifier = GaussianNB()\n",
    "bayes_mnist_preds = produce_report(\"Bayes for mnist\", bayes_classifier, normalised_X_train, y_train_mnist, normalised_X_test, y_test_mnist)\n",
    "bayes_iris_preds = produce_report(\"Bayes for iris\", bayes_classifier, X_train_iris, y_train_iris, X_test_iris, y_test_iris)"
   ]
  },
  {
   "cell_type": "code",
   "execution_count": 57,
   "metadata": {},
   "outputs": [
    {
     "name": "stdout",
     "output_type": "stream",
     "text": [
      "DT for mnist's accuracy:  0.784511784512\n",
      "Report for DT for mnist :\n",
      "              precision    recall  f1-score   support\n",
      "\n",
      "          0       0.93      0.96      0.95        27\n",
      "          1       0.74      0.65      0.69        31\n",
      "          2       0.81      0.78      0.79        27\n",
      "          3       0.70      0.63      0.67        30\n",
      "          4       0.79      0.91      0.85        33\n",
      "          5       0.81      0.87      0.84        30\n",
      "          6       0.96      0.83      0.89        30\n",
      "          7       0.70      0.87      0.78        30\n",
      "          8       0.58      0.54      0.56        28\n",
      "          9       0.83      0.81      0.82        31\n",
      "\n",
      "avg / total       0.79      0.78      0.78       297\n",
      "\n",
      "DT for iris's accuracy:  0.947368421053\n",
      "Report for DT for iris :\n",
      "              precision    recall  f1-score   support\n",
      "\n",
      "          0       1.00      1.00      1.00        13\n",
      "          1       0.86      1.00      0.92        12\n",
      "          2       1.00      0.85      0.92        13\n",
      "\n",
      "avg / total       0.95      0.95      0.95        38\n",
      "\n"
     ]
    }
   ],
   "source": [
    "# Decision Tree\n",
    "dec_tree = DecisionTreeClassifier(random_state=1)\n",
    "dt_mnist_preds = produce_report(\"DT for mnist\", dec_tree, normalised_X_train, y_train_mnist, normalised_X_test, y_test_mnist)\n",
    "dt_iris_preds = produce_report(\"DT for iris\", dec_tree, X_train_iris, y_train_iris, X_test_iris, y_test_iris)"
   ]
  },
  {
   "cell_type": "code",
   "execution_count": 62,
   "metadata": {},
   "outputs": [
    {
     "data": {
      "text/plain": [
       "{'hidden_layer_sizes': (300,)}"
      ]
     },
     "execution_count": 62,
     "metadata": {},
     "output_type": "execute_result"
    }
   ],
   "source": [
    "# NN, tuning number of layers\n",
    "layer_grid = {'hidden_layer_sizes': [(100,), (200,), (300,), (400,)]}\n",
    "# would also like to train the params below but the notebook crashed\n",
    "# other_params={'activation': ['identity', 'logistic', 'tanh', 'relu'], 'alpha': [0.1, 0.01, 0.001, 0.0001, 1], 'max_iter': [100, 200, 300, 400, 500]}\n",
    "gs_nn = GridSearchCV(MLPClassifier(), param_grid=layer_grid, cv=10)\n",
    "gs_nn.fit(normalised_X_train, y_train_mnist).best_params_"
   ]
  },
  {
   "cell_type": "code",
   "execution_count": 65,
   "metadata": {},
   "outputs": [
    {
     "name": "stdout",
     "output_type": "stream",
     "text": [
      "NN for mnist's accuracy:  0.915824915825\n",
      "Report for NN for mnist :\n",
      "              precision    recall  f1-score   support\n",
      "\n",
      "          0       0.96      0.93      0.94        27\n",
      "          1       0.94      1.00      0.97        31\n",
      "          2       1.00      1.00      1.00        27\n",
      "          3       1.00      0.63      0.78        30\n",
      "          4       0.94      0.91      0.92        33\n",
      "          5       0.88      1.00      0.94        30\n",
      "          6       0.97      0.97      0.97        30\n",
      "          7       0.88      0.97      0.92        30\n",
      "          8       0.76      0.89      0.82        28\n",
      "          9       0.90      0.87      0.89        31\n",
      "\n",
      "avg / total       0.92      0.92      0.91       297\n",
      "\n",
      "NN for iris's accuracy:  0.947368421053\n",
      "Report for NN for iris :\n",
      "              precision    recall  f1-score   support\n",
      "\n",
      "          0       1.00      1.00      1.00        11\n",
      "          1       0.92      0.92      0.92        13\n",
      "          2       0.93      0.93      0.93        14\n",
      "\n",
      "avg / total       0.95      0.95      0.95        38\n",
      "\n"
     ]
    }
   ],
   "source": [
    "nn_classifier = MLPClassifier(hidden_layer_sizes=(300,), max_iter=500) # default activation func = relu\n",
    "nn_mnist_preds = produce_report(\"NN for mnist\", nn_classifier, normalised_X_train, y_train_mnist, normalised_X_test, y_test_mnist)\n",
    "nn_iris_preds = produce_report(\"NN for iris\", nn_classifier, X_train_iris, y_train_iris, X_test_iris, y_test_iris)"
   ]
  },
  {
   "cell_type": "markdown",
   "metadata": {
    "collapsed": true
   },
   "source": [
    "### Some comments.\n",
    "\n",
    "What can be seen from the examples above is that the classifiers obtained better performance in the iris dataset than the mnist dataset, especially in the case of the Decision Tree and the Naive Bayes. It is worth noting that the mnist dataset contained 1500 training examples and 64 features, compared to 112 examples and 4 features of the iris set. Therefore, what may have happened in the Decision Tree classification was overfitting: with such a large number of features, the number of splits became larger and larger and this may have resulted in situations where singleton = pure $\\Rightarrow$ not able to deal with the test set. Meanwhile, with Naive Bayes, which constitutes a simple linear hypothesis function, the problem was likely underfitting. This means that with such a complex and large set of data like mnist, the classifier not fitting the training data well and hence did not perform well on the test set either.\n",
    "\n",
    "The Neural Network classifier performed really well on both sets, with the best number of hidden layers being 300. For the smaller set - iris - it  got an accuracy score of 0.95 after maximum 500 iterations. However a problem with it was a significantly longer amount of time taken to make predictions.\n",
    "\n",
    "Also, the difference between the sizes of the test sets is also quite large: the mnist set has 297 testing examples, while the iris set only has only 38."
   ]
  },
  {
   "cell_type": "code",
   "execution_count": null,
   "metadata": {
    "collapsed": true
   },
   "outputs": [],
   "source": []
  }
 ],
 "metadata": {
  "kernelspec": {
   "display_name": "Python [default]",
   "language": "python",
   "name": "python3"
  },
  "language_info": {
   "codemirror_mode": {
    "name": "ipython",
    "version": 3
   },
   "file_extension": ".py",
   "mimetype": "text/x-python",
   "name": "python",
   "nbconvert_exporter": "python",
   "pygments_lexer": "ipython3",
   "version": "3.6.1"
  }
 },
 "nbformat": 4,
 "nbformat_minor": 2
}
